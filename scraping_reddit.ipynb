{
 "cells": [
  {
   "cell_type": "markdown",
   "metadata": {},
   "source": [
    "# Content analysis of subreddit r/tDCS\n",
    "### Tutorials\n",
    "Scraping reddit: https://towardsdatascience.com/scraping-reddit-data-1c0af3040768\n",
    "LDA topic modelling: https://towardsdatascience.com/end-to-end-topic-modeling-in-python-latent-dirichlet-allocation-lda-35ce4ed6b3e0, https://www.tutorialspoint.com/gensim/gensim_documents_and_lda_model.htm"
   ]
  },
  {
   "cell_type": "code",
   "execution_count": 1,
   "metadata": {
    "id": "Kj_SipGjBuSa"
   },
   "outputs": [],
   "source": [
    "import pandas as pd\n",
    "import os"
   ]
  },
  {
   "cell_type": "code",
   "execution_count": 5,
   "metadata": {
    "colab": {
     "base_uri": "https://localhost:8080/"
    },
    "id": "S7dRIw5wAsfP",
    "outputId": "031ffc24-b665-4926-8653-f921160096f5"
   },
   "outputs": [
    {
     "name": "stdout",
     "output_type": "stream",
     "text": [
      "Requirement already satisfied: praw in c:\\users\\megan\\anaconda3\\lib\\site-packages (7.4.0)\n",
      "Requirement already satisfied: websocket-client>=0.54.0 in c:\\users\\megan\\anaconda3\\lib\\site-packages (from praw) (1.2.1)\n",
      "Requirement already satisfied: update-checker>=0.18 in c:\\users\\megan\\anaconda3\\lib\\site-packages (from praw) (0.18.0)\n",
      "Requirement already satisfied: prawcore<3,>=2.1 in c:\\users\\megan\\anaconda3\\lib\\site-packages (from praw) (2.3.0)\n",
      "Requirement already satisfied: requests<3.0,>=2.6.0 in c:\\users\\megan\\anaconda3\\lib\\site-packages (from prawcore<3,>=2.1->praw) (2.24.0)\n",
      "Requirement already satisfied: certifi>=2017.4.17 in c:\\users\\megan\\anaconda3\\lib\\site-packages (from requests<3.0,>=2.6.0->prawcore<3,>=2.1->praw) (2020.6.20)\n"
     ]
    },
    {
     "name": "stderr",
     "output_type": "stream",
     "text": [
      "WARNING: Ignoring invalid distribution -umpy (c:\\users\\megan\\anaconda3\\lib\\site-packages)\n",
      "WARNING: Ignoring invalid distribution -umpy (c:\\users\\megan\\anaconda3\\lib\\site-packages)\n",
      "WARNING: Ignoring invalid distribution -umpy (c:\\users\\megan\\anaconda3\\lib\\site-packages)\n",
      "WARNING: Ignoring invalid distribution -umpy (c:\\users\\megan\\anaconda3\\lib\\site-packages)\n",
      "WARNING: Ignoring invalid distribution -umpy (c:\\users\\megan\\anaconda3\\lib\\site-packages)\n"
     ]
    },
    {
     "name": "stdout",
     "output_type": "stream",
     "text": [
      "Requirement already satisfied: idna<3,>=2.5 in c:\\users\\megan\\anaconda3\\lib\\site-packages (from requests<3.0,>=2.6.0->prawcore<3,>=2.1->praw) (2.10)\n",
      "Requirement already satisfied: urllib3!=1.25.0,!=1.25.1,<1.26,>=1.21.1 in c:\\users\\megan\\anaconda3\\lib\\site-packages (from requests<3.0,>=2.6.0->prawcore<3,>=2.1->praw) (1.25.9)\n",
      "Requirement already satisfied: chardet<4,>=3.0.2 in c:\\users\\megan\\anaconda3\\lib\\site-packages (from requests<3.0,>=2.6.0->prawcore<3,>=2.1->praw) (3.0.4)\n"
     ]
    }
   ],
   "source": [
    "#!pip install praw"
   ]
  },
  {
   "cell_type": "code",
   "execution_count": 6,
   "metadata": {
    "id": "d8GFQsc_A0Zd"
   },
   "outputs": [],
   "source": [
    "import praw"
   ]
  },
  {
   "cell_type": "code",
   "execution_count": 7,
   "metadata": {
    "id": "jKjSiYeJA-5C"
   },
   "outputs": [],
   "source": [
    "reddit = praw.Reddit(client_id='GmEsU35_2gtrf2HN8Glu_Q', client_secret='deiVjBGNpg1fwMkWFic6Rea-MePlYQ', user_agent='my user agent', check_for_async = False)"
   ]
  },
  {
   "cell_type": "code",
   "execution_count": 8,
   "metadata": {
    "colab": {
     "base_uri": "https://localhost:8080/"
    },
    "id": "cJxPySLzCQ7s",
    "outputId": "beb1a388-9e2d-413c-adbb-105b2c5185a0"
   },
   "outputs": [
    {
     "name": "stdout",
     "output_type": "stream",
     "text": [
      "PSA: Sticky electrodes and skin burns\n",
      "Do people use these for ADHD?\n",
      "Help on which devise I should look into\n",
      "Possible damage to the brain\n",
      "So I was looking to buy the brain drive and came across a website selling it 123 dollars\n",
      "What's the perfect metaphor for tDCS?\n",
      "Enduring effects of a single tACS session\n",
      "The Utility of HD-tDCS as Add on Treatment for Negative Symptoms in Schizophrenia: A Case Report [2021]\n",
      "Study: TDCS for disgust reduction- can anyone identify the montage?\n",
      "Cortical suppression for greater altruism. Anybody have an angle on this?\n"
     ]
    }
   ],
   "source": [
    "# get 10 hot posts from the MachineLearning subreddit\n",
    "for submission in reddit.subreddit(\"tDCS\").hot(limit=10):\n",
    "  print(submission.title)"
   ]
  },
  {
   "cell_type": "code",
   "execution_count": 78,
   "metadata": {
    "colab": {
     "base_uri": "https://localhost:8080/"
    },
    "id": "beSn3k_VCiox",
    "outputId": "536aafbf-721f-4541-b6e8-f7201bf32080"
   },
   "outputs": [
    {
     "name": "stdout",
     "output_type": "stream",
     "text": [
      "0      1.637935e+09\n",
      "1      1.637909e+09\n",
      "2      1.637856e+09\n",
      "3      1.637809e+09\n",
      "4      1.637789e+09\n",
      "           ...     \n",
      "495    1.590765e+09\n",
      "496    1.589831e+09\n",
      "497    1.589596e+09\n",
      "498    1.589437e+09\n",
      "499    1.589426e+09\n",
      "Name: created, Length: 500, dtype: float64\n"
     ]
    }
   ],
   "source": [
    "import pandas as pd\n",
    "posts = []\n",
    "tdcs_subreddit = reddit.subreddit('tDCS')\n",
    "for post in tdcs_subreddit.new(limit=500):\n",
    "    posts.append([post.title, post.score, post.id, post.subreddit, post.url, post.num_comments, post.selftext, post.created])\n",
    "posts = pd.DataFrame(posts,columns=['title', 'score', 'id', 'subreddit', 'url', 'num_comments', 'body', 'created'])\n",
    "print(posts['created'])"
   ]
  },
  {
   "cell_type": "code",
   "execution_count": 7,
   "metadata": {
    "colab": {
     "base_uri": "https://localhost:8080/"
    },
    "id": "YXduutEpvSvn",
    "outputId": "993ed810-f84e-4df2-dece-74f824382291"
   },
   "outputs": [
    {
     "name": "stdout",
     "output_type": "stream",
     "text": [
      "My first and only tDCS experience with +F3 -Fp2 @ 1 mA ([https://totaltdcs.com/electrode-placement-montage-list/depression-and-anxiety/](https://totaltdcs.com/electrode-placement-montage-list/depression-and-anxiety/)) was pretty scary (depersonalization issues, strong symptoms of depression for around 12-48 hours).\n",
      "\n",
      "My neurologist was fascinated by the results, because it gives insights what's supposed to be wrong and recommended the same montage with switched polarity which would be -F3 +Fp2.\n",
      "\n",
      "Has anybody tried switching polarities with this or any other popular montage? If so, what were your experiences?\n"
     ]
    }
   ],
   "source": [
    "print(posts.iloc[1]['body'])"
   ]
  },
  {
   "cell_type": "code",
   "execution_count": 85,
   "metadata": {
    "colab": {
     "base_uri": "https://localhost:8080/"
    },
    "id": "OKdLoQDD2nlQ",
    "outputId": "2764a499-0689-4671-83a2-31248822dc4a"
   },
   "outputs": [
    {
     "name": "stdout",
     "output_type": "stream",
     "text": [
      "360\n"
     ]
    }
   ],
   "source": [
    "import datetime\n",
    "posts['datetime'] = posts['created']\n",
    "\n",
    "for post in range(0, len(posts['datetime'])):\n",
    "  time = posts.iloc[post]['datetime']\n",
    "  posts.at[post,'datetime'] = datetime.datetime.fromtimestamp(time)\n",
    "posts = posts[26:386]\n",
    "print(len(posts))"
   ]
  },
  {
   "cell_type": "code",
   "execution_count": 86,
   "metadata": {
    "colab": {
     "base_uri": "https://localhost:8080/"
    },
    "id": "gIirRIf4KCe-",
    "outputId": "fade858e-ab40-4d62-8fb5-05f2de9654a2"
   },
   "outputs": [],
   "source": [
    "posts.to_csv(r'oneyear_posts.csv', index = False)"
   ]
  },
  {
   "cell_type": "markdown",
   "metadata": {
    "id": "GwN4pisYBYzV"
   },
   "source": [
    "### Data cleaning"
   ]
  },
  {
   "cell_type": "code",
   "execution_count": 2,
   "metadata": {
    "colab": {
     "base_uri": "https://localhost:8080/",
     "height": 305
    },
    "id": "dgPScczaBX-1",
    "outputId": "4f8b8f1d-24b9-480e-e029-6b20274370ea"
   },
   "outputs": [
    {
     "data": {
      "text/html": [
       "<div>\n",
       "<style scoped>\n",
       "    .dataframe tbody tr th:only-of-type {\n",
       "        vertical-align: middle;\n",
       "    }\n",
       "\n",
       "    .dataframe tbody tr th {\n",
       "        vertical-align: top;\n",
       "    }\n",
       "\n",
       "    .dataframe thead th {\n",
       "        text-align: right;\n",
       "    }\n",
       "</style>\n",
       "<table border=\"1\" class=\"dataframe\">\n",
       "  <thead>\n",
       "    <tr style=\"text-align: right;\">\n",
       "      <th></th>\n",
       "      <th>title</th>\n",
       "      <th>score</th>\n",
       "      <th>id</th>\n",
       "      <th>subreddit</th>\n",
       "      <th>url</th>\n",
       "      <th>num_comments</th>\n",
       "      <th>body</th>\n",
       "      <th>created</th>\n",
       "      <th>datetime</th>\n",
       "    </tr>\n",
       "  </thead>\n",
       "  <tbody>\n",
       "    <tr>\n",
       "      <th>0</th>\n",
       "      <td>which tDCS devices are the best ones right now?</td>\n",
       "      <td>17</td>\n",
       "      <td>qjnajr</td>\n",
       "      <td>tDCS</td>\n",
       "      <td>https://www.reddit.com/r/tDCS/comments/qjnajr/...</td>\n",
       "      <td>17</td>\n",
       "      <td>Hey. I’m currently treated for treatment resis...</td>\n",
       "      <td>1.635678e+09</td>\n",
       "      <td>2021-10-31 07:05:40</td>\n",
       "    </tr>\n",
       "    <tr>\n",
       "      <th>1</th>\n",
       "      <td>Protocols for better auditory processing for m...</td>\n",
       "      <td>10</td>\n",
       "      <td>qimlw2</td>\n",
       "      <td>tDCS</td>\n",
       "      <td>https://www.reddit.com/r/tDCS/comments/qimlw2/...</td>\n",
       "      <td>1</td>\n",
       "      <td>Any musicians out here have protocols or have ...</td>\n",
       "      <td>1.635542e+09</td>\n",
       "      <td>2021-10-29 17:16:40</td>\n",
       "    </tr>\n",
       "    <tr>\n",
       "      <th>2</th>\n",
       "      <td>Hi! Any recommendations for a cheap t/dcs mach...</td>\n",
       "      <td>4</td>\n",
       "      <td>qgm2mt</td>\n",
       "      <td>tDCS</td>\n",
       "      <td>https://www.reddit.com/r/tDCS/comments/qgm2mt/...</td>\n",
       "      <td>6</td>\n",
       "      <td>Need it for a research experiment.</td>\n",
       "      <td>1.635300e+09</td>\n",
       "      <td>2021-10-26 22:08:03</td>\n",
       "    </tr>\n",
       "    <tr>\n",
       "      <th>3</th>\n",
       "      <td>Learn how Pulsed Electromagnetic Field (PEMF) ...</td>\n",
       "      <td>6</td>\n",
       "      <td>qg53bj</td>\n",
       "      <td>tDCS</td>\n",
       "      <td>https://medium.com/@PEMFTherapy/stroke-rehabil...</td>\n",
       "      <td>0</td>\n",
       "      <td>NaN</td>\n",
       "      <td>1.635251e+09</td>\n",
       "      <td>2021-10-26 08:15:13</td>\n",
       "    </tr>\n",
       "    <tr>\n",
       "      <th>4</th>\n",
       "      <td>Is there a montage that would help someone wit...</td>\n",
       "      <td>11</td>\n",
       "      <td>qdjege</td>\n",
       "      <td>tDCS</td>\n",
       "      <td>https://www.reddit.com/r/tDCS/comments/qdjege/...</td>\n",
       "      <td>11</td>\n",
       "      <td>Is there a montage that would help someone wit...</td>\n",
       "      <td>1.634917e+09</td>\n",
       "      <td>2021-10-22 11:30:43</td>\n",
       "    </tr>\n",
       "  </tbody>\n",
       "</table>\n",
       "</div>"
      ],
      "text/plain": [
       "                                               title  score      id subreddit  \\\n",
       "0    which tDCS devices are the best ones right now?     17  qjnajr      tDCS   \n",
       "1  Protocols for better auditory processing for m...     10  qimlw2      tDCS   \n",
       "2  Hi! Any recommendations for a cheap t/dcs mach...      4  qgm2mt      tDCS   \n",
       "3  Learn how Pulsed Electromagnetic Field (PEMF) ...      6  qg53bj      tDCS   \n",
       "4  Is there a montage that would help someone wit...     11  qdjege      tDCS   \n",
       "\n",
       "                                                 url  num_comments  \\\n",
       "0  https://www.reddit.com/r/tDCS/comments/qjnajr/...            17   \n",
       "1  https://www.reddit.com/r/tDCS/comments/qimlw2/...             1   \n",
       "2  https://www.reddit.com/r/tDCS/comments/qgm2mt/...             6   \n",
       "3  https://medium.com/@PEMFTherapy/stroke-rehabil...             0   \n",
       "4  https://www.reddit.com/r/tDCS/comments/qdjege/...            11   \n",
       "\n",
       "                                                body       created  \\\n",
       "0  Hey. I’m currently treated for treatment resis...  1.635678e+09   \n",
       "1  Any musicians out here have protocols or have ...  1.635542e+09   \n",
       "2                 Need it for a research experiment.  1.635300e+09   \n",
       "3                                                NaN  1.635251e+09   \n",
       "4  Is there a montage that would help someone wit...  1.634917e+09   \n",
       "\n",
       "              datetime  \n",
       "0  2021-10-31 07:05:40  \n",
       "1  2021-10-29 17:16:40  \n",
       "2  2021-10-26 22:08:03  \n",
       "3  2021-10-26 08:15:13  \n",
       "4  2021-10-22 11:30:43  "
      ]
     },
     "execution_count": 2,
     "metadata": {},
     "output_type": "execute_result"
    }
   ],
   "source": [
    "# Importing modules\n",
    "papers = pd.read_csv('oneyear_posts.csv')\n",
    "# Print head\n",
    "papers.head()"
   ]
  },
  {
   "cell_type": "code",
   "execution_count": 3,
   "metadata": {
    "colab": {
     "base_uri": "https://localhost:8080/",
     "height": 203
    },
    "id": "GEwD2yhoCIW5",
    "outputId": "0952a35d-c201-4e05-8c25-5039157f0f87"
   },
   "outputs": [
    {
     "data": {
      "text/html": [
       "<div>\n",
       "<style scoped>\n",
       "    .dataframe tbody tr th:only-of-type {\n",
       "        vertical-align: middle;\n",
       "    }\n",
       "\n",
       "    .dataframe tbody tr th {\n",
       "        vertical-align: top;\n",
       "    }\n",
       "\n",
       "    .dataframe thead th {\n",
       "        text-align: right;\n",
       "    }\n",
       "</style>\n",
       "<table border=\"1\" class=\"dataframe\">\n",
       "  <thead>\n",
       "    <tr style=\"text-align: right;\">\n",
       "      <th></th>\n",
       "      <th>title</th>\n",
       "      <th>num_comments</th>\n",
       "      <th>body</th>\n",
       "      <th>created</th>\n",
       "      <th>datetime</th>\n",
       "    </tr>\n",
       "  </thead>\n",
       "  <tbody>\n",
       "    <tr>\n",
       "      <th>0</th>\n",
       "      <td>which tDCS devices are the best ones right now?</td>\n",
       "      <td>17</td>\n",
       "      <td>Hey. I’m currently treated for treatment resis...</td>\n",
       "      <td>1.635678e+09</td>\n",
       "      <td>2021-10-31 07:05:40</td>\n",
       "    </tr>\n",
       "    <tr>\n",
       "      <th>1</th>\n",
       "      <td>Protocols for better auditory processing for m...</td>\n",
       "      <td>1</td>\n",
       "      <td>Any musicians out here have protocols or have ...</td>\n",
       "      <td>1.635542e+09</td>\n",
       "      <td>2021-10-29 17:16:40</td>\n",
       "    </tr>\n",
       "    <tr>\n",
       "      <th>2</th>\n",
       "      <td>Hi! Any recommendations for a cheap t/dcs mach...</td>\n",
       "      <td>6</td>\n",
       "      <td>Need it for a research experiment.</td>\n",
       "      <td>1.635300e+09</td>\n",
       "      <td>2021-10-26 22:08:03</td>\n",
       "    </tr>\n",
       "    <tr>\n",
       "      <th>3</th>\n",
       "      <td>Learn how Pulsed Electromagnetic Field (PEMF) ...</td>\n",
       "      <td>0</td>\n",
       "      <td>NaN</td>\n",
       "      <td>1.635251e+09</td>\n",
       "      <td>2021-10-26 08:15:13</td>\n",
       "    </tr>\n",
       "    <tr>\n",
       "      <th>4</th>\n",
       "      <td>Is there a montage that would help someone wit...</td>\n",
       "      <td>11</td>\n",
       "      <td>Is there a montage that would help someone wit...</td>\n",
       "      <td>1.634917e+09</td>\n",
       "      <td>2021-10-22 11:30:43</td>\n",
       "    </tr>\n",
       "  </tbody>\n",
       "</table>\n",
       "</div>"
      ],
      "text/plain": [
       "                                               title  num_comments  \\\n",
       "0    which tDCS devices are the best ones right now?            17   \n",
       "1  Protocols for better auditory processing for m...             1   \n",
       "2  Hi! Any recommendations for a cheap t/dcs mach...             6   \n",
       "3  Learn how Pulsed Electromagnetic Field (PEMF) ...             0   \n",
       "4  Is there a montage that would help someone wit...            11   \n",
       "\n",
       "                                                body       created  \\\n",
       "0  Hey. I’m currently treated for treatment resis...  1.635678e+09   \n",
       "1  Any musicians out here have protocols or have ...  1.635542e+09   \n",
       "2                 Need it for a research experiment.  1.635300e+09   \n",
       "3                                                NaN  1.635251e+09   \n",
       "4  Is there a montage that would help someone wit...  1.634917e+09   \n",
       "\n",
       "              datetime  \n",
       "0  2021-10-31 07:05:40  \n",
       "1  2021-10-29 17:16:40  \n",
       "2  2021-10-26 22:08:03  \n",
       "3  2021-10-26 08:15:13  \n",
       "4  2021-10-22 11:30:43  "
      ]
     },
     "execution_count": 3,
     "metadata": {},
     "output_type": "execute_result"
    }
   ],
   "source": [
    "# Remove the columns\n",
    "papers = papers.drop(columns=['score', 'id', 'subreddit', 'url'], axis=1)\n",
    "# Print out the first rows of papers\n",
    "papers.head()"
   ]
  },
  {
   "cell_type": "code",
   "execution_count": 4,
   "metadata": {
    "id": "zjk8sAf_Gr8t"
   },
   "outputs": [],
   "source": [
    "papers['body_processed'] = papers['body'].astype(str)\n",
    "papers['title_processed'] = papers['title'].astype(str)"
   ]
  },
  {
   "cell_type": "code",
   "execution_count": 5,
   "metadata": {
    "colab": {
     "base_uri": "https://localhost:8080/"
    },
    "id": "BWfKrBS-CcLx",
    "outputId": "1135d635-13f5-4bb2-a911-88c0611f5cf1"
   },
   "outputs": [],
   "source": [
    "# Load the regular expression library\n",
    "import re\n",
    "\n",
    "# Remove punctuation\n",
    "papers['body_processed'] = papers['body_processed'].map(lambda x: re.sub('[,\\.!?\\’]', '', x))\n",
    "\n",
    "# Convert the titles to lowercase\n",
    "papers['body_processed'] = papers['body_processed'].str.lower()\n",
    "\n",
    "# Print out the first rows of papers\n",
    "papers['body_processed'].head()\n",
    "\n",
    "# Remove punctuation\n",
    "papers['title_processed'] = papers['title_processed'].map(lambda x: re.sub('[,\\.!?\\’]', '', x))\n",
    "\n",
    "# Convert the titles to lowercase\n",
    "papers['title_processed'] = papers['title_processed'].str.lower()\n"
   ]
  },
  {
   "cell_type": "code",
   "execution_count": 6,
   "metadata": {},
   "outputs": [
    {
     "data": {
      "text/plain": [
       "0    hey im currently treated for treatment resista...\n",
       "1    any musicians out here have protocols or have ...\n",
       "2                    need it for a research experiment\n",
       "3                                                  nan\n",
       "4    is there a montage that would help someone wit...\n",
       "Name: body_processed, dtype: object"
      ]
     },
     "execution_count": 6,
     "metadata": {},
     "output_type": "execute_result"
    }
   ],
   "source": [
    "papers['body_processed'].head()"
   ]
  },
  {
   "cell_type": "code",
   "execution_count": 7,
   "metadata": {},
   "outputs": [],
   "source": [
    "papers_body = papers.dropna()\n",
    "papers_body = papers_body['body_processed']"
   ]
  },
  {
   "cell_type": "code",
   "execution_count": 8,
   "metadata": {},
   "outputs": [
    {
     "data": {
      "text/plain": [
       "317"
      ]
     },
     "execution_count": 8,
     "metadata": {},
     "output_type": "execute_result"
    }
   ],
   "source": [
    "len(papers_body)"
   ]
  },
  {
   "cell_type": "markdown",
   "metadata": {
    "id": "CgQMIP4vJOPc"
   },
   "source": [
    "### Word Clouds"
   ]
  },
  {
   "cell_type": "code",
   "execution_count": null,
   "metadata": {
    "scrolled": true
   },
   "outputs": [],
   "source": [
    "#!pip install wordcloud"
   ]
  },
  {
   "cell_type": "code",
   "execution_count": 9,
   "metadata": {
    "colab": {
     "base_uri": "https://localhost:8080/",
     "height": 217
    },
    "id": "htRyqxGeJB2w",
    "outputId": "1f5d0321-47a1-4e98-811f-4ab984a286e1"
   },
   "outputs": [
    {
     "data": {
      "image/png": "[encoded data removed]",
      "text/plain": [
       "<PIL.Image.Image image mode=RGB size=400x200 at 0x1C454F960A0>"
      ]
     },
     "execution_count": 9,
     "metadata": {},
     "output_type": "execute_result"
    }
   ],
   "source": [
    "# Import the wordcloud library\n",
    "from wordcloud import WordCloud\n",
    "# Join the different processed titles together.\n",
    "long_string = ','.join(list(papers_body.values) + list(papers['title_processed'].values))\n",
    "# Create a WordCloud object\n",
    "wordcloud = WordCloud(background_color=\"white\", max_words=5000, contour_width=3, contour_color='steelblue')\n",
    "# Generate a word cloud\n",
    "wordcloud.generate(long_string)\n",
    "# Visualize the word cloud\n",
    "wordcloud.to_image()\n"
   ]
  },
  {
   "cell_type": "markdown",
   "metadata": {},
   "source": [
    "### Topic modelling"
   ]
  },
  {
   "cell_type": "code",
   "execution_count": 21,
   "metadata": {
    "scrolled": true
   },
   "outputs": [
    {
     "name": "stdout",
     "output_type": "stream",
     "text": [
      "Requirement already satisfied: gensim in c:\\users\\megan\\anaconda3\\lib\\site-packages (4.1.2)\n",
      "Requirement already satisfied: scipy>=0.18.1 in c:\\users\\megan\\anaconda3\\lib\\site-packages (from gensim) (1.5.0)\n",
      "Requirement already satisfied: numpy>=1.17.0 in c:\\users\\megan\\anaconda3\\lib\\site-packages (from gensim) (1.21.4)\n",
      "Requirement already satisfied: Cython==0.29.23 in c:\\users\\megan\\anaconda3\\lib\\site-packages (from gensim) (0.29.23)"
     ]
    },
    {
     "name": "stderr",
     "output_type": "stream",
     "text": [
      "WARNING: Ignoring invalid distribution -umpy (c:\\users\\megan\\anaconda3\\lib\\site-packages)\n",
      "WARNING: Ignoring invalid distribution -umpy (c:\\users\\megan\\anaconda3\\lib\\site-packages)\n",
      "WARNING: Ignoring invalid distribution -umpy (c:\\users\\megan\\anaconda3\\lib\\site-packages)\n",
      "WARNING: Ignoring invalid distribution -umpy (c:\\users\\megan\\anaconda3\\lib\\site-packages)\n",
      "WARNING: Ignoring invalid distribution -umpy (c:\\users\\megan\\anaconda3\\lib\\site-packages)\n"
     ]
    },
    {
     "name": "stdout",
     "output_type": "stream",
     "text": [
      "\n",
      "Requirement already satisfied: smart-open>=1.8.1 in c:\\users\\megan\\anaconda3\\lib\\site-packages (from gensim) (5.2.1)\n"
     ]
    }
   ],
   "source": [
    "#!pip install gensim"
   ]
  },
  {
   "cell_type": "code",
   "execution_count": 99,
   "metadata": {
    "colab": {
     "base_uri": "https://localhost:8080/"
    },
    "id": "h6ANhLdLJXZw",
    "outputId": "d627f9a5-b49e-4c39-c5cf-007acf851dbd"
   },
   "outputs": [
    {
     "name": "stderr",
     "output_type": "stream",
     "text": [
      "[nltk_data] Downloading package stopwords to\n",
      "[nltk_data]     C:\\Users\\megan\\AppData\\Roaming\\nltk_data...\n",
      "[nltk_data]   Package stopwords is already up-to-date!\n"
     ]
    },
    {
     "name": "stdout",
     "output_type": "stream",
     "text": [
      "['hey', 'im', 'currently', 'treated', 'treatment', 'resistant', 'depression', 'social', 'anxiety', 'parnate', 'maoi', 'antidepressant', 'results', 'great', 'far', 'feel', 'like', 'im', 'remission', 'research', 'tdcs', 'would', 'like', 'try', 'luck', 'adjunct', 'medication', 'going', 'higher', 'doses']\n"
     ]
    }
   ],
   "source": [
    "import gensim\n",
    "from gensim.utils import simple_preprocess\n",
    "import nltk\n",
    "nltk.download('stopwords')\n",
    "from nltk.corpus import stopwords\n",
    "stop_words = stopwords.words('english')\n",
    "stop_words.extend(['from', 'subject', 're', 'edu', 'use'])\n",
    "def sent_to_words(sentences):\n",
    "    for sentence in sentences:\n",
    "        # deacc=True removes punctuations\n",
    "        yield(gensim.utils.simple_preprocess(str(sentence), deacc=True))\n",
    "def remove_stopwords(texts):\n",
    "    return [[word for word in simple_preprocess(str(doc)) \n",
    "             if word not in stop_words] for doc in texts]\n",
    "data = papers.body_processed.values.tolist() + papers.title_processed.values.tolist()\n",
    "data_words = list(sent_to_words(data))\n",
    "# remove stop words\n",
    "data_words = remove_stopwords(data_words)\n",
    "print(data_words[:1][0][:30])"
   ]
  },
  {
   "cell_type": "code",
   "execution_count": 100,
   "metadata": {
    "colab": {
     "base_uri": "https://localhost:8080/"
    },
    "id": "t1U4f622Jgb-",
    "outputId": "394e0bc6-54dd-439f-db0e-074f03f137b6"
   },
   "outputs": [
    {
     "name": "stdout",
     "output_type": "stream",
     "text": [
      "[(0, 1), (1, 1), (2, 1), (3, 1), (4, 1), (5, 1), (6, 1), (7, 1), (8, 1), (9, 1), (10, 1), (11, 1), (12, 1), (13, 1), (14, 1), (15, 1), (16, 1), (17, 1), (18, 1), (19, 3), (20, 2), (21, 1), (22, 1), (23, 1), (24, 1), (25, 1), (26, 1), (27, 1), (28, 1), (29, 1)]\n"
     ]
    }
   ],
   "source": [
    "import gensim.corpora as corpora\n",
    "# Create Dictionary\n",
    "id2word = corpora.Dictionary(data_words)\n",
    "# Create Corpus\n",
    "texts = data_words\n",
    "# Term Document Frequency\n",
    "corpus = [id2word.doc2bow(text) for text in texts]\n",
    "# View\n",
    "print(corpus[:1][0][:30])"
   ]
  },
  {
   "cell_type": "code",
   "execution_count": 118,
   "metadata": {
    "colab": {
     "base_uri": "https://localhost:8080/"
    },
    "id": "Wmcy-OS2JjgN",
    "outputId": "93e6ea5d-26bc-4ec8-92f3-34d7641a19c0"
   },
   "outputs": [
    {
     "name": "stdout",
     "output_type": "stream",
     "text": [
      "[(0,\n",
      "  '0.015*\"tdcs\" + 0.008*\"montage\" + 0.007*\"im\" + 0.006*\"device\" + '\n",
      "  '0.006*\"would\" + 0.006*\"used\" + 0.006*\"get\" + 0.006*\"anyone\" + '\n",
      "  '0.006*\"stimulation\" + 0.006*\"help\"'),\n",
      " (1,\n",
      "  '0.023*\"tdcs\" + 0.012*\"montage\" + 0.010*\"depression\" + 0.008*\"using\" + '\n",
      "  '0.007*\"like\" + 0.006*\"feel\" + 0.006*\"ive\" + 0.006*\"know\" + 0.006*\"tacs\" + '\n",
      "  '0.005*\"https\"'),\n",
      " (2,\n",
      "  '0.021*\"tdcs\" + 0.011*\"device\" + 0.008*\"sleep\" + 0.007*\"stim\" + '\n",
      "  '0.007*\"https\" + 0.007*\"anxiety\" + 0.007*\"like\" + 0.007*\"alpha\" + 0.006*\"im\" '\n",
      "  '+ 0.005*\"tacs\"'),\n",
      " (3,\n",
      "  '0.031*\"tdcs\" + 0.012*\"im\" + 0.010*\"anyone\" + 0.010*\"montage\" + '\n",
      "  '0.008*\"brain\" + 0.007*\"like\" + 0.007*\"device\" + 0.006*\"new\" + 0.006*\"using\" '\n",
      "  '+ 0.005*\"stimulation\"'),\n",
      " (4,\n",
      "  '0.015*\"tdcs\" + 0.010*\"brain\" + 0.008*\"im\" + 0.006*\"like\" + 0.006*\"would\" + '\n",
      "  '0.006*\"effects\" + 0.005*\"https\" + 0.004*\"feel\" + 0.004*\"stimulation\" + '\n",
      "  '0.004*\"device\"'),\n",
      " (5,\n",
      "  '0.010*\"device\" + 0.009*\"im\" + 0.009*\"tdcs\" + 0.008*\"https\" + 0.008*\"using\" '\n",
      "  '+ 0.006*\"brain\" + 0.006*\"would\" + 0.005*\"depression\" + 0.005*\"one\" + '\n",
      "  '0.005*\"ive\"'),\n",
      " (6,\n",
      "  '0.015*\"tdcs\" + 0.011*\"device\" + 0.010*\"im\" + 0.009*\"montage\" + '\n",
      "  '0.009*\"https\" + 0.008*\"depression\" + 0.007*\"devices\" + 0.007*\"tacs\" + '\n",
      "  '0.006*\"one\" + 0.006*\"anyone\"'),\n",
      " (7,\n",
      "  '0.015*\"tdcs\" + 0.010*\"would\" + 0.009*\"device\" + 0.009*\"anyone\" + '\n",
      "  '0.008*\"ive\" + 0.008*\"depression\" + 0.007*\"like\" + 0.007*\"montages\" + '\n",
      "  '0.007*\"im\" + 0.006*\"https\"'),\n",
      " (8,\n",
      "  '0.025*\"nan\" + 0.021*\"tdcs\" + 0.013*\"device\" + 0.011*\"tacs\" + 0.008*\"would\" '\n",
      "  '+ 0.005*\"https\" + 0.005*\"one\" + 0.005*\"used\" + 0.005*\"anyone\" + '\n",
      "  '0.005*\"montage\"'),\n",
      " (9,\n",
      "  '0.012*\"current\" + 0.010*\"im\" + 0.010*\"device\" + 0.009*\"tdcs\" + '\n",
      "  '0.007*\"clips\" + 0.006*\"one\" + 0.006*\"would\" + 0.005*\"ideas\" + '\n",
      "  '0.005*\"stimulation\" + 0.004*\"used\"')]\n"
     ]
    }
   ],
   "source": [
    "from pprint import pprint\n",
    "# number of topics\n",
    "num_topics = 20\n",
    "# Build LDA model\n",
    "lda_model = gensim.models.LdaMulticore(corpus=corpus,\n",
    "                                       id2word=id2word,\n",
    "                                       num_topics=num_topics)\n",
    "# Print the Keyword in the 10 topics\n",
    "pprint(lda_model.print_topics())\n",
    "doc_lda = lda_model[corpus]"
   ]
  },
  {
   "cell_type": "code",
   "execution_count": 119,
   "metadata": {},
   "outputs": [
    {
     "name": "stdout",
     "output_type": "stream",
     "text": [
      "\n",
      "Coherence Score:  0.3549953710299282\n"
     ]
    }
   ],
   "source": [
    "from gensim.models import CoherenceModel\n",
    "coherence_model_lda = CoherenceModel(\n",
    "   model=lda_model, texts=texts, dictionary=id2word, coherence='c_v'\n",
    ")\n",
    "coherence_lda = coherence_model_lda.get_coherence()\n",
    "print('\\nCoherence Score: ', coherence_lda)"
   ]
  },
  {
   "cell_type": "code",
   "execution_count": 120,
   "metadata": {},
   "outputs": [],
   "source": [
    "coher = {10: .35, 15: .35, 18: .372, 20: .376, 22: .35, 25: .32}"
   ]
  },
  {
   "cell_type": "code",
   "execution_count": 56,
   "metadata": {},
   "outputs": [],
   "source": [
    "def dominant_topics(ldamodel, corpus, texts):\n",
    "    sent_topics_df = pd.DataFrame()\n",
    "    for i, row in enumerate(ldamodel[corpus]):\n",
    "        row = sorted(row, key=lambda x: (x[1]), reverse=True)\n",
    "        for j, (topic_num, prop_topic) in enumerate(row):\n",
    "            if j == 0: # => dominant topic\n",
    "                wp = ldamodel.show_topic(topic_num)\n",
    "                topic_keywords = \", \".join([word for word, prop in wp])\n",
    "                sent_topics_df = sent_topics_df.append(\n",
    "                   pd.Series([int(topic_num), round(prop_topic,4), topic_keywords]), ignore_index=True\n",
    "                )\n",
    "            else:\n",
    "                break\n",
    "    sent_topics_df.columns = ['Dominant_Topic', 'Perc_Contribution', 'Topic_Keywords']\n",
    "    contents = pd.Series(texts)\n",
    "    sent_topics_df = pd.concat([sent_topics_df, contents], axis=1)\n",
    "    return(sent_topics_df)"
   ]
  },
  {
   "cell_type": "code",
   "execution_count": 58,
   "metadata": {},
   "outputs": [],
   "source": [
    "df_topic_sents_keywords = dominant_topics(ldamodel=lda_model, corpus=corpus, texts=(papers['body_processed']+papers_body))\n",
    "df_dominant_topic = df_topic_sents_keywords.reset_index()\n",
    "df_dominant_topic.columns = ['Document_No', 'Dominant_Topic', 'Topic_Perc_Contrib', 'Keywords', 'Text']"
   ]
  },
  {
   "cell_type": "code",
   "execution_count": 60,
   "metadata": {
    "scrolled": true
   },
   "outputs": [
    {
     "data": {
      "text/html": [
       "<div>\n",
       "<style scoped>\n",
       "    .dataframe tbody tr th:only-of-type {\n",
       "        vertical-align: middle;\n",
       "    }\n",
       "\n",
       "    .dataframe tbody tr th {\n",
       "        vertical-align: top;\n",
       "    }\n",
       "\n",
       "    .dataframe thead th {\n",
       "        text-align: right;\n",
       "    }\n",
       "</style>\n",
       "<table border=\"1\" class=\"dataframe\">\n",
       "  <thead>\n",
       "    <tr style=\"text-align: right;\">\n",
       "      <th></th>\n",
       "      <th>Document_No</th>\n",
       "      <th>Dominant_Topic</th>\n",
       "      <th>Topic_Perc_Contrib</th>\n",
       "      <th>Keywords</th>\n",
       "      <th>Text</th>\n",
       "    </tr>\n",
       "  </thead>\n",
       "  <tbody>\n",
       "    <tr>\n",
       "      <th>195</th>\n",
       "      <td>195</td>\n",
       "      <td>4.0</td>\n",
       "      <td>0.90</td>\n",
       "      <td>tdcs, research, anyone, used, day, depression,...</td>\n",
       "      <td>NaN</td>\n",
       "    </tr>\n",
       "    <tr>\n",
       "      <th>196</th>\n",
       "      <td>196</td>\n",
       "      <td>8.0</td>\n",
       "      <td>0.82</td>\n",
       "      <td>anyone, tdcs, long, term, cognitive, montage, ...</td>\n",
       "      <td>NaN</td>\n",
       "    </tr>\n",
       "    <tr>\n",
       "      <th>197</th>\n",
       "      <td>197</td>\n",
       "      <td>8.0</td>\n",
       "      <td>0.82</td>\n",
       "      <td>anyone, tdcs, long, term, cognitive, montage, ...</td>\n",
       "      <td>NaN</td>\n",
       "    </tr>\n",
       "    <tr>\n",
       "      <th>198</th>\n",
       "      <td>198</td>\n",
       "      <td>0.0</td>\n",
       "      <td>0.90</td>\n",
       "      <td>tdcs, montage, depression, like, right, anxiet...</td>\n",
       "      <td>NaN</td>\n",
       "    </tr>\n",
       "    <tr>\n",
       "      <th>199</th>\n",
       "      <td>199</td>\n",
       "      <td>4.0</td>\n",
       "      <td>0.70</td>\n",
       "      <td>tdcs, research, anyone, used, day, depression,...</td>\n",
       "      <td>NaN</td>\n",
       "    </tr>\n",
       "  </tbody>\n",
       "</table>\n",
       "</div>"
      ],
      "text/plain": [
       "     Document_No  Dominant_Topic  Topic_Perc_Contrib  \\\n",
       "195          195             4.0                0.90   \n",
       "196          196             8.0                0.82   \n",
       "197          197             8.0                0.82   \n",
       "198          198             0.0                0.90   \n",
       "199          199             4.0                0.70   \n",
       "\n",
       "                                              Keywords Text  \n",
       "195  tdcs, research, anyone, used, day, depression,...  NaN  \n",
       "196  anyone, tdcs, long, term, cognitive, montage, ...  NaN  \n",
       "197  anyone, tdcs, long, term, cognitive, montage, ...  NaN  \n",
       "198  tdcs, montage, depression, like, right, anxiet...  NaN  \n",
       "199  tdcs, research, anyone, used, day, depression,...  NaN  "
      ]
     },
     "execution_count": 60,
     "metadata": {},
     "output_type": "execute_result"
    }
   ],
   "source": [
    "df_dominant_topic.tail()"
   ]
  },
  {
   "cell_type": "code",
   "execution_count": 64,
   "metadata": {
    "id": "QBBh0lqqJ6ng"
   },
   "outputs": [
    {
     "name": "stderr",
     "output_type": "stream",
     "text": [
      "WARNING: Ignoring invalid distribution -umpy (c:\\users\\megan\\anaconda3\\lib\\site-packages)\n",
      "WARNING: Ignoring invalid distribution -umpy (c:\\users\\megan\\anaconda3\\lib\\site-packages)\n",
      "ERROR: Could not find a version that satisfies the requirement graphlab (from versions: none)\n",
      "ERROR: No matching distribution found for graphlab\n",
      "WARNING: Ignoring invalid distribution -umpy (c:\\users\\megan\\anaconda3\\lib\\site-packages)\n",
      "WARNING: Ignoring invalid distribution -umpy (c:\\users\\megan\\anaconda3\\lib\\site-packages)\n"
     ]
    }
   ],
   "source": [
    "#!pip install pyldavis --user\n",
    "#!pip install graphlab --user"
   ]
  },
  {
   "cell_type": "code",
   "execution_count": 63,
   "metadata": {
    "id": "KWwzqxZrKOG2"
   },
   "outputs": [
    {
     "name": "stderr",
     "output_type": "stream",
     "text": [
      "C:\\Users\\megan\\anaconda3\\lib\\site-packages\\sklearn\\decomposition\\_lda.py:28: DeprecationWarning: `np.float` is a deprecated alias for the builtin `float`. To silence this warning, use `float` by itself. Doing this will not modify any behavior and is safe. If you specifically wanted the numpy scalar type, use `np.float64` here.\n",
      "Deprecated in NumPy 1.20; for more details and guidance: https://numpy.org/devdocs/release/1.20.0-notes.html#deprecations\n",
      "  EPS = np.finfo(np.float).eps\n"
     ]
    }
   ],
   "source": [
    "import pyLDAvis\n",
    "import pickle\n",
    "import pyLDAvis.gensim_models\n",
    "import os\n",
    "#import pyLDAvis.graphlab\n"
   ]
  },
  {
   "cell_type": "code",
   "execution_count": 64,
   "metadata": {},
   "outputs": [
    {
     "name": "stdout",
     "output_type": "stream",
     "text": [
      "Full path: C:\\Users\\megan\\OneDrive - Emory University\\neuroethics\\reddit\\scraping_reddit.ipynb\n",
      "Directory Path: C:\\Users\\megan\\OneDrive - Emory University\\neuroethics\\reddit\n"
     ]
    }
   ],
   "source": [
    "absolute_path = os.path.abspath('scraping_reddit.ipynb')\n",
    "print(\"Full path: \" + absolute_path)\n",
    "print(\"Directory Path: \" + os.path.dirname(absolute_path))"
   ]
  },
  {
   "cell_type": "code",
   "execution_count": 146,
   "metadata": {
    "colab": {
     "base_uri": "https://localhost:8080/",
     "height": 293
    },
    "id": "hMrzU5B7Jvu2",
    "outputId": "1606d2ae-2278-4140-bd40-f9955cfd376b"
   },
   "outputs": [
    {
     "name": "stderr",
     "output_type": "stream",
     "text": [
      "C:\\Users\\megan\\AppData\\Roaming\\Python\\Python38\\site-packages\\pyLDAvis\\_prepare.py:246: FutureWarning: In a future version of pandas all arguments of DataFrame.drop except for the argument 'labels' will be keyword-only\n",
      "  default_term_info = default_term_info.sort_values(\n"
     ]
    },
    {
     "data": {
      "text/html": [
       "\n",
       "<link rel=\"stylesheet\" type=\"text/css\" href=\"https://cdn.jsdelivr.net/gh/bmabey/pyLDAvis@3.3.1/pyLDAvis/js/ldavis.v1.0.0.css\">\n",
       "\n",
       "\n",
       "<div id=\"ldavis_el3607225782871474882706202898\"></div>\n",
       "<script type=\"text/javascript\">\n",
       "\n",
       "var ldavis_el3607225782871474882706202898_data = {\"mdsDat\": {\"x\": [-0.3641122022068939, -0.25047260116135034, -0.048384127331620556, -0.11707046388848992, 0.03204805243135851, 0.052327305125857856, 0.05899224994081561, 0.005260268265259354, 0.059747185067199435, 0.05377859967599798, 0.037884292008450116, 0.058746154550023785, 0.05756168623262091, 0.05728674821022368, 0.05513162889926006, 0.05405362653076507, 0.04809100851281408, 0.05198732865584613, 0.04867179870420825, 0.048471461777653393], \"y\": [-0.2405623961140831, 0.31097468649519244, -0.008219481930894362, 0.03734787609694813, -0.02105201183202195, -0.000362891131121848, -0.008682839384792503, 0.014470000964505432, -0.010667662272163788, 0.005536578423155608, 0.006787681505373521, -0.007234188195770286, -0.008243975394491877, -0.00899729851271819, -0.00966838320748601, -0.008441459050460159, -0.016713689302117744, -0.008822367395945907, -0.008740750391464307, -0.008707429369642129], \"topics\": [1, 2, 3, 4, 5, 6, 7, 8, 9, 10, 11, 12, 13, 14, 15, 16, 17, 18, 19, 20], \"cluster\": [1, 1, 1, 1, 1, 1, 1, 1, 1, 1, 1, 1, 1, 1, 1, 1, 1, 1, 1, 1], \"Freq\": [37.19765360629651, 14.559798740353378, 7.659777523911989, 6.852215923509589, 4.826494353294695, 4.426244447694241, 4.344695993703318, 3.8930624073637383, 3.0098153251128625, 2.8059234027654103, 2.070635504153605, 1.9057198580214385, 1.5018356447758618, 1.416891929626581, 0.9378322368235169, 0.8839387718302187, 0.8164274982918801, 0.36960101158605424, 0.2860138875177542, 0.2354219333673589]}, \"tinfo\": {\"Term\": [\"tdcs\", \"depression\", \"montage\", \"anyone\", \"https\", \"device\", \"brain\", \"tacs\", \"minutes\", \"im\", \"stimulation\", \"new\", \"cathode\", \"anode\", \"looking\", \"try\", \"people\", \"montages\", \"ces\", \"like\", \"best\", \"adhd\", \"current\", \"tried\", \"effect\", \"different\", \"using\", \"right\", \"research\", \"fp\", \"device\", \"im\", \"like\", \"one\", \"ive\", \"time\", \"electrodes\", \"used\", \"feel\", \"get\", \"also\", \"thanks\", \"need\", \"alpha_stim\", \"could\", \"much\", \"dont\", \"focus\", \"really\", \"better\", \"first\", \"hi\", \"two\", \"want\", \"good\", \"well\", \"something\", \"thing\", \"got\", \"units\", \"help\", \"know\", \"would\", \"anxiety\", \"day\", \"using\", \"try\", \"new\", \"tacs\", \"montages\", \"people\", \"different\", \"research\", \"question\", \"experience\", \"placement\", \"tdcs\", \"tms\", \"hello\", \"symptoms\", \"interested\", \"frequency\", \"trial\", \"part\", \"effects\", \"stimulation\", \"ask\", \"problems\", \"understand\", \"recommendations\", \"channel\", \"type\", \"various\", \"frequencies\", \"headband\", \"feedback\", \"self\", \"long_term\", \"studies\", \"current\", \"study\", \"electrode\", \"go\", \"brain\", \"devices\", \"using\", \"looking\", \"montage\", \"thinking\", \"would\", \"https\", \"flow\", \"week\", \"suggestions\", \"many\", \"memory\", \"effective\", \"bumblebee\", \"specific\", \"transcranial\", \"helps\", \"cathodal\", \"article\", \"cortex\", \"http\", \"anybody\", \"seem\", \"significant\", \"trns\", \"group\", \"field\", \"antidepressant\", \"currently\", \"fc\", \"brand\", \"maybe\", \"newbie\", \"guess\", \"reduction\", \"supraorbital\", \"science\", \"treatment\", \"life\", \"looking\", \"new\", \"sessions\", \"area\", \"health\", \"anxiety\", \"right\", \"adhd\", \"tried\", \"trying\", \"success\", \"hair\", \"sure\", \"head\", \"placements\", \"lot\", \"guys\", \"things\", \"appreciated\", \"simple\", \"treatments\", \"great\", \"brain_fog\", \"see\", \"areas\", \"measure\", \"improvement\", \"trouble\", \"advice\", \"math\", \"wondering\", \"increasing\", \"listed\", \"ac\", \"depression\", \"means\", \"learning\", \"anyone\", \"montage\", \"red\", \"try\", \"make\", \"using\", \"far\", \"tdcs\", \"feeling\", \"felt\", \"pain\", \"brain_driver\", \"instead\", \"sometimes\", \"forehead\", \"actually\", \"min\", \"saline_solution\", \"relief\", \"high\", \"ill\", \"took\", \"cz\", \"feels\", \"might\", \"apex\", \"fact\", \"rest\", \"particular\", \"given\", \"weird\", \"energy\", \"oz\", \"wont\", \"burn\", \"scalp\", \"complete\", \"state\", \"problem\", \"long\", \"questions\", \"quality\", \"little\", \"days\", \"make\", \"sessions\", \"go\", \"still\", \"session\", \"anodal\", \"motor\", \"placebo\", \"depressed\", \"issues\", \"ptsd\", \"executive\", \"original\", \"report\", \"nothing\", \"longer\", \"several\", \"control\", \"point\", \"effect\", \"certain\", \"suggest\", \"told\", \"website\", \"increased\", \"active\", \"obviously\", \"shown\", \"ideas\", \"previous\", \"youd\", \"medical\", \"across\", \"dlpfc\", \"total\", \"next\", \"price\", \"sleep\", \"related\", \"learning\", \"clips\", \"therapy\", \"unit\", \"similar\", \"neurofeedback\", \"ear\", \"someone\", \"rtms\", \"task\", \"easy\", \"experimental\", \"love\", \"lower\", \"gel\", \"network\", \"alpha\", \"look\", \"zapping\", \"worth\", \"major\", \"work\", \"body\", \"diagnosed\", \"edit\", \"youre\", \"understanding\", \"none\", \"huge\", \"substances\", \"wiki\", \"less\", \"terms\", \"mental\", \"sponge\", \"increase\", \"far\", \"last\", \"questions\", \"long\", \"cathode\", \"anode\", \"darpa\", \"place\", \"whats\", \"shoulder\", \"every\", \"fp\", \"best\", \"protocol\", \"cannot\", \"accelerated_learning\", \"guide\", \"amount\", \"wake\", \"ie\", \"heard\", \"software\", \"temple\", \"left\", \"times\", \"setups\", \"stimulated\", \"mark\", \"till\", \"hurt\", \"positions\", \"visualize\", \"slight\", \"tape\", \"positive\", \"right\", \"montage\", \"put\", \"electrode\", \"wondering\", \"ocd\", \"kind\", \"diy\", \"ces\", \"insomnia\", \"curious\", \"available\", \"circuit\", \"stop\", \"premier\", \"comes\", \"dr\", \"conditions\", \"knows\", \"old\", \"real\", \"uses\", \"sounds\", \"mind\", \"within\", \"front\", \"reasons\", \"finally\", \"history\", \"patients\", \"idea\", \"fully\", \"words\", \"injury\", \"researchers\", \"never\", \"still\", \"treatment\", \"sub\", \"improve\", \"mood\", \"performance\", \"working_memory\", \"anhedonia\", \"skills\", \"happening\", \"morning\", \"hour\", \"treat\", \"needs\", \"totally\", \"asleep\", \"else\", \"tell\", \"yes\", \"chronic_pain\", \"lets\", \"models\", \"wants\", \"motivation\", \"eyes\", \"somewhere\", \"choose\", \"emotional\", \"improving\", \"dorsolateral_prefrontal\", \"significantly\", \"athletic\", \"calls\", \"sleep\", \"say\", \"either\", \"hard\", \"sessions\", \"safe\", \"region\", \"stimulate\", \"permanent\", \"normal\", \"anything\", \"wrong\", \"power\", \"case\", \"neural\", \"flow_neuroscience\", \"headset\", \"buying\", \"activity\", \"looks\", \"constant\", \"planning\", \"reviews\", \"depending\", \"wwwyoutubecom_watchv\", \"build\", \"open\", \"without\", \"maintenance\", \"consider\", \"doesnt\", \"guessing\", \"scared\", \"chose\", \"amperage\", \"emotionless\", \"last\", \"hours\", \"brain\", \"work\", \"little\", \"idea\", \"add\", \"bumble_bee\", \"skin\", \"tens\", \"gamma\", \"recommended\", \"pro\", \"etc\", \"kinda\", \"already\", \"finding\", \"manual\", \"lack\", \"per\", \"video\", \"friends\", \"reference\", \"reaction\", \"failure\", \"starts\", \"stick\", \"duration\", \"games\", \"goes\", \"increases\", \"dear\", \"undergo\", \"sports\", \"numbers\", \"guidance\", \"fine\", \"protocols\", \"red\", \"says\", \"times\", \"still\", \"nan\", \"vs\", \"possible\", \"second\", \"info\", \"vagus_nerve\", \"neuron_queen\", \"away\", \"matter\", \"couldnt\", \"close\", \"immediate\", \"australia\", \"searching\", \"clip\", \"muscle\", \"pz\", \"bi\", \"magnetic\", \"receiving\", \"processing\", \"unable\", \"connector\", \"extremely\", \"speak\", \"discovered\", \"stimulating\", \"existence\", \"legitimate\", \"sale\", \"though\", \"make\", \"controlled\", \"transcranial_direct\", \"daily\", \"option\", \"worked\", \"pmc\", \"pmc_articles\", \"shit\", \"interesting\", \"worse\", \"improves\", \"stuttering\", \"individuals\", \"anterior\", \"direct\", \"speech_fluency\", \"soon\", \"article_view\", \"indexphp\", \"happened\", \"biggest\", \"risks\", \"prompted\", \"wrote\", \"decreased\", \"ordered\", \"cognitive\", \"responses\", \"must\", \"silly\", \"considering\", \"improving\", \"positive\", \"writing\", \"minute\", \"interview\", \"personal\", \"enhancement\", \"clinical_psychology\", \"experiments\", \"towards\", \"world\", \"purposes\", \"mainly\", \"message\", \"musicians\", \"doctoral_candidate\", \"duquesne_university\", \"guzmane_duqedu\", \"mailto\", \"send\", \"participate\", \"built\", \"music\", \"develop\", \"approximately\", \"attitudes\", \"consumer\", \"contexts\", \"dissertation\", \"erick\", \"guzman\", \"influences\", \"experiences\", \"protocols\", \"either\", \"braindriver\", \"list\", \"post\", \"data\", \"reducing\", \"app\", \"involved\", \"reliable\", \"totaltdcscom\", \"updated\", \"prl\", \"improving_insightfulness\", \"points\", \"format\", \"changed\", \"auto_webp\", \"png\", \"pngwidth\", \"refer\", \"spent\", \"articleid\", \"journalpone\", \"opposite\", \"plosone\", \"watch\", \"pages\", \"apple\", \"overage\", \"pillow\", \"tools\", \"improved\", \"quality\", \"previewreddit\", \"wanted\", \"per_day\", \"plan\", \"recall\", \"anyways\", \"search\", \"aware\", \"persisted\", \"regulation\", \"falling\", \"night\", \"stimulant\", \"stopping\", \"minutes\", \"switch\", \"sensation\", \"benefited\", \"alert\", \"participants\", \"button\", \"pressed\", \"usage\", \"level\", \"calmer\", \"word\", \"arduino\", \"thebraindriver\", \"concentrated\", \"excluded\", \"faded\", \"faster\", \"turn\", \"bolts\", \"supposed\", \"changes\", \"longer\", \"activadose\", \"kit\", \"favorite\", \"starter\", \"dramatically\", \"heavy\", \"mine\", \"deep\", \"process\", \"discovered\", \"comparing\", \"plato\", \"turned\", \"caputron\", \"apex_type\", \"standard\", \"socializing\", \"ur\", \"lithuania\", \"trustworthy\", \"alertness\", \"activadose_ii\", \"tourettes\", \"regime\", \"rubber\", \"cuts\", \"decisions\", \"difficult\", \"fantastic\", \"fav\", \"prior\", \"latex\", \"panic_disorder\", \"migraines\", \"electrosquare\", \"attention\", \"reduce\", \"focus\", \"ie\", \"thank\", \"pads\", \"lsd\", \"headbands\", \"sticky\", \"check\", \"charge\", \"imagine\", \"microdose\", \"straps\", \"amounts\", \"dialed\", \"discussed\", \"hassle\", \"mere\", \"theyve\", \"transmits\", \"transmitted\", \"uniform\", \"consumers\", \"discussion\", \"whatever\", \"videos\", \"series\", \"intro\", \"ad\", \"caa\", \"circumference\", \"cloth\", \"cranium\", \"supplements\", \"amygdala\", \"discover\", \"products\", \"selling\", \"flowtime\", \"liftid\", \"frontal\", \"proven\", \"mathematics\", \"prefrontal_cortex\", \"utilize\", \"networks\", \"arithmetic\", \"dorsal\", \"medial\", \"noradrenaline\", \"lobe\", \"mouth\", \"taste\", \"stroke\", \"counting\", \"investigated\", \"maths\", \"relation\", \"train\", \"cain\", \"rehabilitation\", \"neuro\", \"pemf\", \"rapid\", \"recovery\", \"survivors\", \"technologies\", \"doable\", \"seamless\", \"pulsed\", \"easily\", \"learn\", \"behavioral_flexibility\", \"electromagnetic\"], \"Freq\": [569.0, 146.0, 147.0, 122.0, 104.0, 273.0, 114.0, 125.0, 44.0, 192.0, 99.0, 94.0, 42.0, 41.0, 69.0, 84.0, 70.0, 69.0, 35.0, 152.0, 38.0, 43.0, 71.0, 39.0, 36.0, 58.0, 169.0, 52.0, 56.0, 31.0, 272.9664246125525, 191.99196140475502, 151.64951582940313, 121.82831828595398, 117.636111156459, 90.74217945496734, 88.54340755722222, 85.04994939446759, 75.7466859489659, 72.59006041564541, 70.93139951592946, 69.73126879611438, 67.41962307965456, 66.74655982977518, 61.57956827856856, 59.69327918001016, 59.64785330173127, 58.210852111738944, 56.3744150908828, 55.9388529872643, 54.181307811052555, 53.90264071678682, 51.47090854058303, 48.16782855380349, 47.049436321137605, 45.09096347809715, 44.202295008897075, 41.075775658441984, 38.37360671086395, 37.10982930737173, 101.32406412560256, 90.36687558443116, 150.03253115197788, 113.20754956449156, 53.97378671244034, 115.01820913378367, 56.889539849161935, 54.96367295964566, 124.06419347210601, 68.50147122313987, 69.06949014958145, 57.234494565899844, 55.67871830708281, 54.51378467095578, 50.92402444507063, 43.54896149740304, 557.2915980605892, 31.56076619805449, 24.122931896463722, 20.213365637109003, 18.483757992599188, 17.82981024195688, 17.531871287698905, 14.515891864884614, 40.33165974879518, 92.00589736218674, 11.725882359302819, 11.344762552775, 11.09743049196541, 11.03140174216008, 10.739253838590274, 10.249061202534428, 9.731214924895566, 9.534585134265322, 9.07448161266958, 8.842409828813894, 8.554678989966812, 8.5538991449313, 23.87099145642989, 60.38080012013804, 44.39710076060053, 20.63876156630771, 18.87355595956535, 51.55338519655014, 30.04772993550027, 39.887186229245714, 22.00794503282925, 16.58096640208794, 11.486166972019927, 11.937773548966154, 103.68324717440385, 29.61152185848458, 27.005729299641658, 26.404393645106783, 22.91739914705884, 19.272635709864588, 17.260764441091414, 16.974121332849645, 13.769564534408957, 12.99498186459118, 11.783244487889636, 11.369316340261024, 10.985275873593332, 10.487567768771397, 9.827570087615731, 9.376818640546837, 18.095066983160674, 9.112076242628005, 8.827127340279143, 8.6756216500958, 8.56889966578683, 8.207441724008731, 8.11288024192759, 7.997382625282749, 7.577654626470232, 7.326580396929222, 6.951637874938002, 6.168075913887821, 5.877112875776963, 5.787266835045137, 9.658223287780366, 29.29702765824723, 12.032945643247057, 46.33904119309798, 38.29516648847254, 13.943616740227721, 12.482507604297064, 9.203140694845182, 14.30902802586115, 10.924123895594047, 42.09966348625524, 38.046853126109546, 34.22669551136315, 30.455716869191765, 21.17177582382328, 16.501628043830188, 16.32674506567403, 15.297257565017077, 16.502903883510424, 14.170913976846908, 12.790513531555835, 9.555902960518434, 8.448372726838407, 8.232425771291918, 8.022512122180332, 7.484210752590497, 23.65766072343956, 6.32318238543119, 5.416199257647353, 4.942187322805702, 4.717120437094593, 18.263199323655343, 4.334730531409088, 16.9292402876519, 4.030252131031204, 4.011392041519662, 3.9712743823027536, 115.89566274242385, 3.514197687786191, 19.56621396661962, 87.02918162962686, 101.00186518463272, 13.421707753228347, 26.788026320868582, 10.196469534279057, 14.274471391157405, 6.039298023070668, 11.729528210713653, 18.442581081604864, 17.46349814314154, 16.450632021914643, 13.26639817517018, 12.38854724463649, 12.140013358650767, 11.328465606725942, 11.077566778918555, 10.392440380655211, 9.472942965988032, 9.160785524055175, 8.968482054090922, 11.469139101129615, 8.205488886254278, 7.697800077985919, 7.380649402486843, 12.405915692799553, 6.781503034415563, 6.673448478059855, 6.328611840045828, 6.194977376631958, 5.864091589194105, 5.853963032131523, 5.534687331054094, 5.506382793790886, 5.209796845956847, 5.041897135513779, 4.855827024317604, 4.6147469082539185, 4.529702365429183, 8.23537538287067, 20.721868712811354, 16.008897490803633, 6.095472765654161, 7.569120907895138, 15.742452834356016, 11.617214662574982, 8.34408905795994, 7.505773348618602, 7.103989893521683, 7.076866339316634, 22.62521182040859, 17.710336159782425, 17.07804281015691, 14.737799181383613, 10.472486266258953, 9.426123793716071, 8.935381091020792, 8.810045105797364, 7.575038037447248, 7.279299718350295, 7.025624552681771, 6.547695573896844, 6.217261549167643, 6.014660487061077, 31.27204670592326, 5.606196600840948, 5.419849770028394, 5.257669723481435, 5.219935687563022, 5.178746135107184, 4.897168952588187, 4.766076274661343, 4.6432167998092595, 4.584182386877374, 4.431045014357129, 4.178154759207126, 3.9769584174461787, 3.887565262086077, 3.850830358244478, 3.725703818939508, 6.329257807864656, 5.175754537867971, 7.591243147874391, 5.982154071175838, 4.914681564978602, 16.39839200833596, 16.017416978377348, 14.831382881395639, 13.38232049077032, 13.254268511387812, 11.178366308082742, 9.518094962038237, 7.503609064379752, 7.175914581417815, 6.327193364096425, 6.228951516930614, 6.136166099222326, 5.967684441926337, 5.685138765300459, 5.4528561257135255, 5.389163294301005, 5.092879777455888, 4.931137627531095, 4.787583240965606, 4.734262848908458, 23.57060200362724, 4.46050351036523, 4.435199553138675, 9.086216695413606, 4.107960442296413, 4.068607250680547, 4.0683742073016536, 4.039413879820057, 4.0027112218066545, 4.001218538784954, 8.348129473897137, 6.780880606929102, 5.684787191237474, 11.200255644076615, 8.587477077987858, 8.01552299902664, 5.980258739413316, 5.03410429527098, 4.835657813170581, 41.36240084228046, 40.49795991816516, 24.774187256414745, 20.450842535439076, 19.75327990690592, 14.268885741972014, 12.340036284258865, 28.11825534064996, 33.92620519843998, 7.361542469756958, 6.215763770566075, 5.6564425157997835, 5.641879233332743, 5.514521017955033, 4.692137797511541, 4.397645664041134, 5.920147738123242, 2.9135235697643154, 2.8865370932900074, 17.626085382594074, 6.686499824371231, 2.2307369424305703, 2.192209349626233, 2.0871806006187223, 1.9081111814658158, 1.9079637184799783, 1.9071798994555624, 1.7641868572488206, 4.423148209838021, 1.5312710962968885, 7.664060309984541, 14.686071280029083, 21.01508422350696, 5.927309368788431, 5.769402463241909, 3.2035267079262786, 15.328888619301672, 13.074826240795277, 9.089236260079467, 31.74704485683118, 6.980293307020832, 6.951139989775854, 6.785017761558734, 6.536665290166281, 5.982501748662459, 4.994123944060095, 4.589315367713889, 4.3737175821061305, 4.156015016250442, 3.992135814812857, 3.93767132050658, 3.6904443057774463, 3.6074349181396044, 3.186950205721581, 3.1559535240694707, 3.028108884183138, 3.0156852529202793, 2.938332607172044, 2.817931012094572, 2.7182921440142946, 2.6859296979694336, 6.651085171221973, 2.546764615585854, 2.43488350682613, 2.350541524684832, 2.3479800205766215, 6.482841925748177, 8.184419205540483, 6.533907782166788, 2.6424569627119445, 12.23875311166103, 11.78394972093865, 10.406074471083324, 8.532054313957325, 8.30558462997977, 8.119336318938624, 5.5566466793712035, 5.305005768229434, 5.280175341515477, 4.825139272313102, 4.800379341123754, 4.722790150290017, 4.683197614732636, 7.525940456786528, 4.451566187894909, 4.347267842991991, 4.078030729922366, 3.9100783862005937, 3.346370870886199, 3.3155039945726728, 3.3134901147546256, 3.027649359444122, 2.9359541438824936, 2.8646198090282495, 2.861330522449025, 6.913826519143166, 2.498733547963661, 2.479405232072252, 2.288491025526542, 2.1020539335253225, 16.358188068874437, 5.994810531358577, 5.276413994414102, 3.304207843607877, 4.465993983606292, 3.278716575411696, 19.748439215579687, 13.848849549560093, 9.498597673662532, 7.035610751573436, 6.474378424790551, 4.280519997456993, 3.5405317720812493, 3.45846518737185, 3.2126985267130888, 3.151665220497658, 2.5235022395787383, 2.5008291421857516, 6.533859360604109, 2.3790775358376712, 2.011153303544813, 1.9956460360136814, 1.8942512589270917, 1.870352765531228, 1.78816569977193, 1.7687384097364787, 1.7258967845904518, 10.957268606620547, 1.6290332120228994, 1.4438014968923727, 4.50405527137988, 1.3421316081103851, 1.2604455360678513, 1.0755897058552533, 0.9169124130662705, 0.9159207183846872, 5.648626522037787, 2.3256865580470056, 14.288075903380939, 1.9272290765812805, 1.617970338823858, 1.5548267790933803, 19.894286393930393, 14.126473187324612, 11.247204675611469, 6.40919459539366, 5.696494690975164, 5.10388111689782, 4.743821866360812, 4.427955198450622, 4.208501500933258, 4.065525204581071, 3.8378319182616805, 3.2505082359791277, 3.1924803935696193, 3.0814846052499676, 2.919900132696991, 2.645105396048865, 1.8143017324852262, 1.7707204144941433, 1.7395713262364523, 1.7293703152310986, 1.7102592629820719, 1.377880078430753, 1.2937254460537049, 2.4581104087874746, 1.1005957822342483, 1.0689127553453182, 0.9405063525355408, 0.9404397478953904, 0.9399149885144478, 0.836625511271605, 2.2235761576752138, 1.8953912296033122, 4.560754423282228, 2.5867462194206587, 1.651191595098991, 1.706866318336526, 18.15110318801353, 13.894906558504472, 6.258364071956068, 4.573450686077971, 4.086326434722191, 4.0326097009451525, 3.605501782567495, 3.0801493762009193, 2.6299444706443924, 2.2408195659696037, 2.164157466880261, 2.0227681086960443, 1.9545118795923326, 1.7725414496603678, 1.5863168110814743, 2.0089864912184323, 1.537052667538611, 1.4473123143938833, 1.3946006831277253, 1.3040480534489858, 1.3028261663914813, 1.1923170897837845, 1.1016840194964472, 1.0293333055441731, 1.0271961316768985, 1.1210147658065859, 3.1921546481285326, 0.3455603254767182, 0.3455603254767182, 0.3455603254767182, 0.8586831840795562, 0.8137074509100111, 10.815694984454536, 6.598312014946165, 3.9580571251181933, 3.584452043242939, 3.384928878190036, 3.3559850741272395, 3.3559850741272395, 2.9504459777854533, 2.8378771790881405, 2.785091186141575, 2.4255052816287925, 2.1375199783369085, 1.722220330317199, 1.6061631712065891, 1.5803561179492882, 1.560019433177085, 1.497777107300215, 1.4010754019258767, 1.4010754019258767, 1.2289761483485082, 1.0590918169092263, 1.0590918169092263, 0.9211405171767028, 0.9206936890664162, 0.8101744358764399, 0.809598647844783, 6.760506687941048, 0.7203122471447814, 2.43041362071906, 0.3437111948015647, 1.7335464183140807, 1.484357304203961, 1.7772679810888505, 2.0036851323085414, 1.7814848414815767, 1.6324037295017952, 1.6291682281710493, 1.563396035457829, 1.3154176904016168, 1.2612544469745601, 1.2068176394020163, 1.2065820200851634, 1.2064921089102663, 1.143958019458898, 1.1383562786145192, 1.059654873406255, 0.9593267227730603, 0.9593267227730603, 0.9593267227730603, 0.7825064232684845, 0.7823058577457034, 0.727137690704683, 0.7262823781293346, 0.6183995928047177, 0.6164678035099812, 0.4949405276015984, 0.4949405276015984, 0.4949405276015984, 0.4949405276015984, 0.4949405276015984, 0.4949405276015984, 0.4949405276015984, 0.4949405276015984, 2.4046456068315942, 1.1305754204685727, 0.9898688405821697, 3.7219730277001637, 3.6593355162041528, 3.284527106812773, 2.576070150513685, 2.325175404884873, 1.986622177142381, 1.963022241028638, 1.4572132521741972, 1.1014068534966373, 0.9168544593204971, 0.9163350255672648, 0.9018362500347465, 0.8516883102525212, 0.7878070188920491, 0.5819844085925646, 0.5175372239615217, 0.5175372239615217, 0.5175372239615217, 0.5173612295875577, 0.5169398581146897, 0.4654243258979705, 0.4654243258979705, 0.4654243258979705, 0.4654243258979705, 0.4609539938645787, 0.7787089919439583, 0.24703215108670246, 0.24703215108670246, 0.24703215108670246, 0.24703215108670246, 1.3780298852394866, 0.5953546674619947, 0.3791754677762599, 4.752323321787666, 2.73210195784843, 1.5817445567538082, 1.473977927373654, 1.3380545378752953, 1.1412524356793736, 1.0943173293178328, 1.094282471874982, 1.069398284532145, 0.896985507245809, 2.6135931957913368, 0.709664881183581, 0.46594013070136114, 12.934568684432282, 0.9844880076110063, 0.47826541418748636, 0.02599592702297341, 0.025980157805257757, 0.025980128311708414, 0.025979803882665634, 0.025979803882665634, 0.025980149940311267, 0.025980395719889127, 0.02597962298889633, 0.02597988253213055, 0.025979560069324396, 0.025979619056423084, 0.025979343783295878, 0.025979343783295878, 0.025979343783295878, 0.0259796033265301, 0.02597975276051344, 0.02597956203556102, 0.025979713435780982, 0.025979601360293477, 0.02600302906965532, 4.447275716639143, 1.382665160859616, 1.323390142487247, 0.6300698331848159, 0.4501497783746353, 0.4216270198069159, 0.36725529765704856, 0.30430054263818923, 0.21230981821585326, 0.42119144216848664, 0.11359886600511711, 0.11359886600511711, 0.013267016377192973, 0.013267309228526683, 0.013264253427223862, 0.013263859101567832, 0.013263429170886428, 0.013263429170886428, 0.013263278739654218, 0.013263278739654218, 0.013263429170886428, 0.013263678406064053, 0.01326327517915168, 0.013263151451688502, 0.013263600965133862, 0.013263009921712636, 0.013263009921712636, 0.013263009921712636, 0.013263009921712636, 0.013263009921712636, 0.013263429170886428, 0.01326316747394992, 0.013263250255633918, 0.013263029504476592, 0.01326302327359715, 0.013263070450255774, 0.013330152988439438, 0.013274429343476076, 0.013264669115895116, 1.3828768846899133, 0.6580321412713901, 0.45862300097220965, 0.382015102484793, 0.3819526348442888, 0.25806755522334, 0.2270122989641046, 0.20181861902846454, 0.09632086955192126, 0.011253236708035139, 0.011253001820669534, 0.011253001820669534, 0.011253001820669534, 0.011253001820669534, 0.011253001820669534, 0.011253001820669534, 0.011253001820669534, 0.011253001820669534, 0.011253001820669534, 0.011253001820669534, 0.011253001820669534, 0.011253001820669534, 0.011252902630696962, 0.011252821350024993, 0.011252821350024993, 0.011252697362559278, 0.011252697362559278, 0.011252697362559278, 0.011252697362559278, 0.011252697362559278, 0.011252846147518137, 0.01125272353769093, 0.011252771066219453, 0.01125287094501128, 0.011252801374266628, 0.011252782776146771, 0.8243500506932725, 0.5014848775282328, 0.36229647647888163, 0.354686000455962, 0.30118776458275615, 0.2137897209624331, 0.18802262451318918, 0.15036963173556833, 0.07979620378385693, 0.07979620378385693, 0.07979620378385693, 0.009318331788036394, 0.009318331788036394, 0.009318331788036394, 0.009318332921989447, 0.009318179271350731, 0.009318179271350731, 0.009318179271350731, 0.009318179271350731, 0.009318179271350731, 0.009318131078345969, 0.009318136748111236, 0.009318136748111236, 0.009318136748111236, 0.00931794114120955, 0.00931794114120955, 0.00931794114120955, 0.009318004075604005, 0.00931786743426109, 0.00931786743426109, 0.00931794114120955, 0.00931794114120955, 0.009318048299773082, 0.009317963820270616, 0.00931794114120955], \"Total\": [569.0, 146.0, 147.0, 122.0, 104.0, 273.0, 114.0, 125.0, 44.0, 192.0, 99.0, 94.0, 42.0, 41.0, 69.0, 84.0, 70.0, 69.0, 35.0, 152.0, 38.0, 43.0, 71.0, 39.0, 36.0, 58.0, 169.0, 52.0, 56.0, 31.0, 273.91998890823214, 192.94419861799585, 152.71902286443964, 122.7805553801824, 118.58834824570062, 91.69452228008274, 89.49564464646384, 86.03502655365898, 76.69892303820752, 73.54229750488703, 71.88363679196063, 70.6837039844598, 68.37186024351556, 67.6987969190168, 62.53180554108622, 60.645516269251786, 60.600090390972895, 59.16310104143176, 57.326652248137265, 56.89109090053283, 55.13355053985331, 54.85487780602845, 52.4234060661574, 49.12006583806715, 48.00167341037923, 46.04320082751435, 45.1545320981387, 42.02801274768361, 39.32584380010558, 38.0620664053796, 104.9233487744196, 93.70694236998622, 162.8359972691161, 131.30070549721327, 58.14881047172782, 169.96985077205792, 84.55455555942065, 94.12287540523972, 125.03869201614368, 69.47600805172237, 70.05220071647743, 58.208996949366224, 56.65321686034419, 55.48828321499347, 51.89852327180624, 44.523460041440735, 569.9203777058048, 32.53526474209218, 25.09743044050141, 21.187864750482227, 19.458256536636874, 18.804308785994568, 18.506369851138817, 15.490390446425605, 43.49823203117206, 99.41989390700853, 12.700380903340507, 12.319261096812689, 12.071940028813755, 12.005900315192426, 11.713752382627963, 11.223559746572116, 10.705713468933254, 10.509086855030276, 10.048980156707268, 9.816908372851582, 9.529177536263122, 9.528397688968989, 27.218374385841415, 71.59151525937494, 54.58448339748046, 27.318092265542855, 27.342392870490748, 114.75870399761598, 56.10622658382011, 169.96985077205792, 69.23335342717387, 147.94469565748955, 15.108595162172078, 162.8359972691161, 104.6777409008899, 30.58482462017516, 27.979032061332237, 27.377696406797362, 23.890704569009337, 20.245938471555167, 18.234067202781993, 17.947424094540224, 14.742867296099542, 13.968284626281765, 12.75654724958022, 12.342619105568543, 11.958578646425797, 11.460870530461982, 10.800872849306316, 10.350121416734751, 20.017811505509087, 10.08537900431859, 9.800430101969727, 9.648924411786385, 9.542202427477415, 9.180744485699316, 9.086183003618174, 8.970685386973335, 8.550957388160816, 8.29988316819623, 7.924940636628588, 7.141378675578408, 6.85041563746755, 6.760569596735723, 11.38755996545276, 36.74236739922175, 14.496082135645215, 69.23335342717387, 94.12287540523972, 27.589094601848373, 27.127000875775952, 14.537209838322124, 131.30070549721327, 52.98350719707179, 43.08597992386607, 39.03310935227824, 35.213007957052696, 31.44197308489694, 22.158032039528454, 17.492102081012778, 17.313001281379204, 16.283520235325287, 17.634862571915384, 15.157170272246608, 13.780703183993305, 10.542159178482237, 9.434628947231502, 9.2186819869971, 9.008768337885513, 8.470466968295678, 27.05280942028408, 7.309438604548733, 6.402455485341915, 5.928443552423082, 5.703376652799776, 22.227406664083958, 5.32098674780309, 21.054452903238904, 5.016508346736386, 4.997648257224845, 4.957530598007936, 146.53456325669148, 4.500453903491373, 25.394809981992815, 122.63455554236528, 147.94469565748955, 18.922102560944698, 84.55455555942065, 23.495629292092637, 169.96985077205792, 14.967895255351367, 569.9203777058048, 19.4264171639519, 18.447334225488575, 17.43446810426168, 14.250234257517219, 13.37238332698353, 13.123849440997807, 12.312301689072982, 12.061402861265595, 11.37627646300225, 10.456779053566828, 10.144621606402215, 9.952318136437961, 12.738228618661855, 9.189324968601317, 8.681636165020873, 8.364485484833883, 14.15687061134044, 7.765339121994361, 7.6572845604068975, 7.31244792239287, 7.178813459545976, 6.8479276715411475, 6.837799117890925, 6.5185234134011365, 6.49021888082584, 6.193632928303889, 6.025733217860822, 5.839663106664646, 5.598582992729788, 5.5135384477762255, 10.086611952422452, 27.671040761290662, 21.953589599273162, 7.6458301813183684, 10.125499056564818, 31.609145779406184, 23.495629292092637, 27.589094601848373, 27.342392870490748, 20.023144436917573, 47.14534262123664, 23.614373970654672, 18.699498310028506, 18.06720496040299, 15.726961355060896, 11.461648416505039, 10.415285943962157, 9.924543241266878, 9.79920725604345, 8.564200187693334, 8.268461874408304, 8.014811198303706, 7.536857729954855, 7.20642369941373, 7.003822637307164, 36.44389855242755, 6.595358751087035, 6.409011920274481, 6.246831873727522, 6.209097843040865, 6.167908290041184, 5.886331102834274, 5.75523842490743, 5.632378984925775, 5.573344552818732, 5.420207164603216, 5.16731691444001, 4.966120577513647, 4.876727419089787, 4.839992513178477, 4.714865969185595, 10.648766824695436, 8.58812282022893, 29.34814494046148, 18.451367441619965, 25.394809981992815, 17.386647654744134, 17.00567262478552, 15.819638527803814, 14.370576142990421, 14.242524157795987, 12.166621954490918, 10.506350608446413, 8.491864710787928, 8.164170227825991, 7.3154490105046035, 7.217207163338792, 7.124421745630504, 6.955940095092138, 6.673394411708637, 6.441111772121704, 6.377418940709183, 6.081135423864066, 5.919393273939273, 5.7758388873737845, 5.722518495316637, 28.791441997214594, 5.448759156773408, 5.423455199546853, 11.116268118311018, 5.096216088704591, 5.056862897088725, 5.056629853709832, 5.027669526228236, 4.990966868214833, 4.989474185193132, 10.431164130199825, 8.992283929322506, 7.4725028501886746, 17.829006084465988, 15.934083576317683, 14.967895255351367, 12.571712635358063, 21.953589599273162, 27.671040761290662, 42.35933444979268, 41.49489352567738, 25.771120863926956, 21.447776888082, 20.75021351441813, 15.26581934948423, 13.336969891771082, 31.666611637747167, 38.39834195230368, 8.358476077269176, 7.2126973780782935, 6.653376123312002, 6.638812840844961, 6.511454625467252, 5.689071410835684, 5.394581353905787, 7.342939434333129, 3.910457177276533, 3.883470700802225, 23.99971459972497, 9.288009201523307, 3.2276705508329138, 3.1891429571384506, 3.0841142081309396, 2.9050447889780333, 2.9048973312239528, 2.9041135127797046, 2.761120464761038, 7.241876675614118, 2.528204703809106, 14.893663878003087, 52.98350719707179, 147.94469565748955, 23.66395929813197, 27.318092265542855, 21.054452903238904, 16.328521731975485, 14.074459353469093, 10.088869372753283, 35.40929400417755, 7.9799264196946496, 7.950773102449672, 7.784650874232552, 7.536298402840099, 6.9821348671482015, 5.993757056733912, 5.588948497064999, 5.373350694779948, 5.155648128924259, 4.991768927486675, 4.937304438510353, 4.6900774184512635, 4.607068030813422, 4.186583318395398, 4.155586641975044, 4.027741996856954, 4.015318365594096, 3.9379657198458604, 3.817564130580313, 3.717925256688111, 3.68556281064325, 9.160116790487951, 3.546397731876604, 3.4345166253118706, 3.350174637358648, 3.347613155830591, 11.810787073558995, 20.023144436917573, 36.74236739922175, 4.973185901337466, 13.240016924603092, 12.785213528068788, 11.40733827821346, 9.533318121087461, 9.306848442921831, 9.12060012606876, 6.557910492313267, 6.306269575359574, 6.2814391486456165, 5.826403079443241, 5.801643148253893, 5.724053957420156, 5.684461421862776, 9.151538206468492, 5.4528299950250485, 5.348531650122131, 5.0792945370525056, 4.911342193330733, 4.347634678016338, 4.316767812597883, 4.314753921884765, 4.028913170191194, 3.9372179546295656, 3.8658836161583876, 3.862594329579163, 9.359301849374937, 3.4999974077513083, 3.48066903920239, 3.28975483265668, 3.1033177406554606, 29.34814494046148, 10.022310967027362, 10.774026355711444, 9.188498977069976, 27.589094601848373, 9.670462103692518, 20.764514858635135, 14.864925192615543, 10.514673325484226, 8.051686394628886, 7.490454067846003, 5.296595640512446, 4.5566074151367015, 4.474540830427302, 4.228774173180901, 4.167740865681937, 3.5395778826341893, 3.5169048009364734, 9.214442960838383, 3.395153178893122, 3.0272289524121887, 3.0117216790691326, 2.910326901982543, 2.886428408586679, 2.804241348059138, 2.78481405279193, 2.741972427645903, 17.465380370288873, 2.645108865973421, 2.4598771399478236, 7.699480786362141, 2.358207256977761, 2.2765211791233027, 2.091665382890883, 1.9329880561217219, 1.9319963614401388, 12.571712635358063, 5.090405947614286, 114.75870399761598, 28.791441997214594, 10.125499056564818, 9.160116790487951, 20.909174478216006, 15.141361271610222, 12.26209275989708, 7.424082679679272, 6.711382792769335, 6.118769201183432, 5.758709950646424, 5.442843282736234, 5.22338958521887, 5.080413293383925, 4.8527200031142685, 4.26539632026474, 4.207368477855232, 4.096372694223493, 3.93478822221436, 3.659993480334477, 2.8291898167708385, 2.7856084987797556, 2.7544594105220646, 2.7442584042046234, 2.725147347267684, 2.392768162716365, 2.308613530339317, 4.626984869562339, 2.1154839440858733, 2.08380083963093, 1.955394436821153, 1.9553278321810026, 1.9548030777868584, 1.851513595557217, 6.389030560186337, 5.245545797066366, 18.922102560944698, 9.180694388505833, 9.288009201523307, 20.023144436917573, 19.172256365403236, 14.916059735894178, 7.2795185125451525, 5.594603863467679, 5.107479614240726, 5.053762878334861, 4.626654959957204, 4.1013025849019025, 3.6510976480341, 3.2619727433593115, 3.185310644269969, 3.043921286085752, 2.97566505698204, 2.7936946270500758, 2.607470022336796, 3.3202361498196384, 2.5582058501600757, 2.4684654917835913, 2.4157538605174333, 2.3252012308386933, 2.3239793728495655, 2.2134702671734923, 2.1228372026980793, 2.050486482933881, 2.0483493645372377, 2.5500967964724928, 7.441225495101688, 1.366713502866426, 1.366713502866426, 1.366713502866426, 9.845974642380927, 23.495629292092637, 11.83705312423883, 7.619670160060416, 4.979415264804291, 4.60581019169528, 4.406287012644377, 4.37734320858158, 4.37734320858158, 3.9718041122397936, 3.8592353135424804, 3.8064493724926955, 3.4468634160831324, 3.1588781127912484, 2.743578469288781, 2.6275213056609292, 2.6017142546622494, 2.581377567631425, 2.5191352527982365, 2.422433536380217, 2.422433536380217, 2.250334284931675, 2.0804499513635664, 2.0804499513635664, 1.9424986516310427, 1.942051823520756, 1.8315325703307799, 1.8309567822991228, 15.55853696099238, 1.7416703815991212, 5.913019887896504, 1.3650693292559046, 7.250556104587294, 9.359301849374937, 14.893663878003087, 3.034530654001165, 2.8123303736740373, 2.6632492511944186, 2.6600137498636727, 2.5942415992890537, 2.34626321209424, 2.2920999843987775, 2.23766316109464, 2.237427541777787, 2.2373376306028896, 2.1748035447684555, 2.1692018003071425, 2.090500395098878, 1.9901722444656833, 1.9901722444656833, 1.9901722444656833, 1.8133519449611077, 1.8131513794383265, 1.757983212397306, 1.7571278998219577, 1.6492451144973408, 1.647313379696438, 1.5257860492942215, 1.5257860492942215, 1.5257860492942215, 1.5257860492942215, 1.5257860492942215, 1.5257860492942215, 1.5257860492942215, 1.5257860492942215, 9.638077131305618, 5.245545797066366, 10.774026355711444, 4.754643597122624, 4.692006085626613, 4.3171976796475935, 3.6087407199361445, 3.357845974307332, 3.0192927465648403, 2.9956928104510974, 2.4898838215966563, 2.1340774229190966, 1.9495250287429562, 1.949005598402084, 1.9345068203473312, 1.8843588796749802, 1.820477588314508, 1.6146549780150237, 1.5502077933839806, 1.5502077933839806, 1.5502077933839806, 1.5500317990100168, 1.549610446284152, 1.4980948953204294, 1.4980948953204294, 1.4980948953204294, 1.4980948953204294, 1.4936246994173212, 3.6581232438502385, 1.2797027205091613, 1.2797027205091613, 1.2797027205091613, 1.2797027205091613, 10.956502946684134, 7.6458301813183684, 8.563757931556358, 5.787848703650528, 3.7676273397112916, 2.6172699386166696, 2.5095033092365155, 2.3735799197381566, 2.1767778175422348, 2.1298427111806943, 2.1298078571502033, 2.1049236663950066, 1.9325108971106557, 5.767617057404735, 1.7451902630464422, 1.5014655183761467, 44.30269031759605, 4.883445200054673, 7.404719251142958, 1.0615875715930614, 1.0615183183696095, 1.0615224082985162, 1.0615113670495002, 1.0615113670495002, 1.061532005172089, 1.0615500460422342, 1.0615190907092533, 1.0615304192999786, 1.0615189092890143, 1.0615223052329765, 1.061511125648781, 1.061511125648781, 1.061511125648781, 1.061525501626266, 1.0615355223487777, 1.06152564567881, 1.0615360441342407, 1.0615330353748884, 8.014811198303706, 5.495517043303524, 2.4309064875239974, 2.371631469151628, 1.6783111598491967, 1.4983911050390162, 1.4698683464712967, 1.4154966689857666, 1.3525418693025701, 1.260551322768815, 2.5500967964724928, 1.161840192669498, 1.161840192669498, 1.0615894309715856, 1.061623884849776, 1.0615410713570113, 1.0615365804952284, 1.0615141586613857, 1.06151464933584, 1.0615074606990484, 1.0615074606990484, 1.0615221147749692, 1.0615442565330941, 1.0615215828480016, 1.0615149966808408, 1.0615523221816863, 1.061510941543709, 1.061510941543709, 1.061510941543709, 1.061510941543709, 1.061510941543709, 1.0615478136346677, 1.0615303610785551, 1.0615418980355769, 1.0615194951959341, 1.0615213128042713, 1.0615764323592984, 3.380791447430991, 59.16310104143176, 5.394581353905787, 2.433128254424258, 1.708283511005735, 1.5088743707065546, 1.4322664722191378, 1.4322040045786337, 1.308318924957685, 1.2772636686984495, 1.2520699939945663, 1.1465722392862663, 1.0615073510541213, 1.0615083152206424, 1.0615083152206424, 1.0615083152206424, 1.0615083152206424, 1.0615083152206424, 1.0615083152206424, 1.0615083152206424, 1.0615083152206424, 1.0615083152206424, 1.061512784538544, 1.0615128825329327, 1.0615161610682473, 1.0615111111611462, 1.0615062366161652, 1.0615108944978255, 1.0615075733487838, 1.0615075733487838, 1.0615075733487838, 1.0615075733487838, 1.0615075733487838, 1.061527426020662, 1.0615135535113882, 1.0615249227156935, 1.0615511394649435, 1.0615367902837418, 1.061534797400882, 1.876536220715633, 1.5536710561947105, 1.4144826780555888, 1.4068722019850097, 1.3533739346051166, 1.2659758909847936, 1.2402087945355498, 1.2025558017579288, 1.1319823738062174, 1.1319823738062174, 1.1319823738062174, 1.061511353403842, 1.061511353403842, 1.061511353403842, 1.0615235131405651, 1.0615087907281167, 1.0615087907281167, 1.0615087907281167, 1.0615087907281167, 1.0615087907281167, 1.0615099057432906, 1.0615169908837192, 1.0615266575165079, 1.0615293872211953, 1.0615104350125915, 1.0615104350125915, 1.0615104350125915, 1.0615221376946464, 1.061508684627164, 1.061508684627164, 1.0615180886589026, 1.0615213072597567, 1.0615502722355608, 1.061543394069339, 1.0615816401691418], \"Category\": [\"Default\", \"Default\", \"Default\", \"Default\", \"Default\", \"Default\", \"Default\", \"Default\", \"Default\", \"Default\", \"Default\", \"Default\", \"Default\", \"Default\", \"Default\", \"Default\", \"Default\", \"Default\", \"Default\", \"Default\", \"Default\", \"Default\", \"Default\", \"Default\", \"Default\", \"Default\", \"Default\", \"Default\", \"Default\", \"Default\", \"Topic1\", \"Topic1\", \"Topic1\", \"Topic1\", \"Topic1\", \"Topic1\", \"Topic1\", \"Topic1\", \"Topic1\", \"Topic1\", \"Topic1\", \"Topic1\", \"Topic1\", \"Topic1\", \"Topic1\", \"Topic1\", \"Topic1\", \"Topic1\", \"Topic1\", \"Topic1\", \"Topic1\", \"Topic1\", \"Topic1\", \"Topic1\", \"Topic1\", \"Topic1\", \"Topic1\", \"Topic1\", \"Topic1\", \"Topic1\", \"Topic1\", \"Topic1\", \"Topic1\", \"Topic1\", \"Topic1\", \"Topic1\", \"Topic1\", \"Topic1\", \"Topic2\", \"Topic2\", \"Topic2\", \"Topic2\", \"Topic2\", \"Topic2\", \"Topic2\", \"Topic2\", \"Topic2\", \"Topic2\", \"Topic2\", \"Topic2\", \"Topic2\", \"Topic2\", \"Topic2\", \"Topic2\", \"Topic2\", \"Topic2\", \"Topic2\", \"Topic2\", \"Topic2\", \"Topic2\", \"Topic2\", \"Topic2\", \"Topic2\", \"Topic2\", \"Topic2\", \"Topic2\", \"Topic2\", \"Topic2\", \"Topic2\", \"Topic2\", \"Topic2\", \"Topic2\", \"Topic2\", \"Topic2\", \"Topic2\", \"Topic2\", \"Topic2\", \"Topic2\", \"Topic2\", \"Topic2\", \"Topic3\", \"Topic3\", \"Topic3\", \"Topic3\", \"Topic3\", \"Topic3\", \"Topic3\", \"Topic3\", \"Topic3\", \"Topic3\", \"Topic3\", \"Topic3\", \"Topic3\", \"Topic3\", \"Topic3\", \"Topic3\", \"Topic3\", \"Topic3\", \"Topic3\", \"Topic3\", \"Topic3\", \"Topic3\", \"Topic3\", \"Topic3\", \"Topic3\", \"Topic3\", \"Topic3\", \"Topic3\", \"Topic3\", \"Topic3\", \"Topic3\", \"Topic3\", \"Topic3\", \"Topic3\", \"Topic3\", \"Topic3\", \"Topic3\", \"Topic3\", \"Topic3\", \"Topic3\", \"Topic4\", \"Topic4\", \"Topic4\", \"Topic4\", \"Topic4\", \"Topic4\", \"Topic4\", \"Topic4\", \"Topic4\", \"Topic4\", \"Topic4\", \"Topic4\", \"Topic4\", \"Topic4\", \"Topic4\", \"Topic4\", \"Topic4\", \"Topic4\", \"Topic4\", \"Topic4\", \"Topic4\", \"Topic4\", \"Topic4\", \"Topic4\", \"Topic4\", \"Topic4\", \"Topic4\", \"Topic4\", \"Topic4\", \"Topic4\", \"Topic4\", \"Topic4\", \"Topic4\", \"Topic4\", \"Topic4\", \"Topic4\", \"Topic4\", \"Topic4\", \"Topic5\", \"Topic5\", \"Topic5\", \"Topic5\", \"Topic5\", \"Topic5\", \"Topic5\", \"Topic5\", \"Topic5\", \"Topic5\", \"Topic5\", \"Topic5\", \"Topic5\", \"Topic5\", \"Topic5\", \"Topic5\", \"Topic5\", \"Topic5\", \"Topic5\", \"Topic5\", \"Topic5\", \"Topic5\", \"Topic5\", \"Topic5\", \"Topic5\", \"Topic5\", \"Topic5\", \"Topic5\", \"Topic5\", \"Topic5\", \"Topic5\", \"Topic5\", \"Topic5\", \"Topic5\", \"Topic5\", \"Topic5\", \"Topic5\", \"Topic5\", \"Topic5\", \"Topic5\", \"Topic5\", \"Topic6\", \"Topic6\", \"Topic6\", \"Topic6\", \"Topic6\", \"Topic6\", \"Topic6\", \"Topic6\", \"Topic6\", \"Topic6\", \"Topic6\", \"Topic6\", \"Topic6\", \"Topic6\", \"Topic6\", \"Topic6\", \"Topic6\", \"Topic6\", \"Topic6\", \"Topic6\", \"Topic6\", \"Topic6\", \"Topic6\", \"Topic6\", \"Topic6\", \"Topic6\", \"Topic6\", \"Topic6\", \"Topic6\", \"Topic6\", \"Topic6\", \"Topic6\", \"Topic6\", \"Topic6\", \"Topic6\", \"Topic7\", \"Topic7\", \"Topic7\", \"Topic7\", \"Topic7\", \"Topic7\", \"Topic7\", \"Topic7\", \"Topic7\", \"Topic7\", \"Topic7\", \"Topic7\", \"Topic7\", \"Topic7\", \"Topic7\", \"Topic7\", \"Topic7\", \"Topic7\", \"Topic7\", \"Topic7\", \"Topic7\", \"Topic7\", \"Topic7\", \"Topic7\", \"Topic7\", \"Topic7\", \"Topic7\", \"Topic7\", \"Topic7\", \"Topic7\", \"Topic7\", \"Topic7\", \"Topic7\", \"Topic7\", \"Topic7\", \"Topic7\", \"Topic7\", \"Topic7\", \"Topic7\", \"Topic8\", \"Topic8\", \"Topic8\", \"Topic8\", \"Topic8\", \"Topic8\", \"Topic8\", \"Topic8\", \"Topic8\", \"Topic8\", \"Topic8\", \"Topic8\", \"Topic8\", \"Topic8\", \"Topic8\", \"Topic8\", \"Topic8\", \"Topic8\", \"Topic8\", \"Topic8\", \"Topic8\", \"Topic8\", \"Topic8\", \"Topic8\", \"Topic8\", \"Topic8\", \"Topic8\", \"Topic8\", \"Topic8\", \"Topic8\", \"Topic8\", \"Topic8\", \"Topic8\", \"Topic8\", \"Topic8\", \"Topic8\", \"Topic9\", \"Topic9\", \"Topic9\", \"Topic9\", \"Topic9\", \"Topic9\", \"Topic9\", \"Topic9\", \"Topic9\", \"Topic9\", \"Topic9\", \"Topic9\", \"Topic9\", \"Topic9\", \"Topic9\", \"Topic9\", \"Topic9\", \"Topic9\", \"Topic9\", \"Topic9\", \"Topic9\", \"Topic9\", \"Topic9\", \"Topic9\", \"Topic9\", \"Topic9\", \"Topic9\", \"Topic9\", \"Topic9\", \"Topic9\", \"Topic9\", \"Topic9\", \"Topic9\", \"Topic9\", \"Topic10\", \"Topic10\", \"Topic10\", \"Topic10\", \"Topic10\", \"Topic10\", \"Topic10\", \"Topic10\", \"Topic10\", \"Topic10\", \"Topic10\", \"Topic10\", \"Topic10\", \"Topic10\", \"Topic10\", \"Topic10\", \"Topic10\", \"Topic10\", \"Topic10\", \"Topic10\", \"Topic10\", \"Topic10\", \"Topic10\", \"Topic10\", \"Topic10\", \"Topic10\", \"Topic10\", \"Topic10\", \"Topic10\", \"Topic10\", \"Topic10\", \"Topic10\", \"Topic10\", \"Topic10\", \"Topic10\", \"Topic10\", \"Topic11\", \"Topic11\", \"Topic11\", \"Topic11\", \"Topic11\", \"Topic11\", \"Topic11\", \"Topic11\", \"Topic11\", \"Topic11\", \"Topic11\", \"Topic11\", \"Topic11\", \"Topic11\", \"Topic11\", \"Topic11\", \"Topic11\", \"Topic11\", \"Topic11\", \"Topic11\", \"Topic11\", \"Topic11\", \"Topic11\", \"Topic11\", \"Topic11\", \"Topic11\", \"Topic11\", \"Topic11\", \"Topic11\", \"Topic11\", \"Topic11\", \"Topic11\", \"Topic11\", \"Topic11\", \"Topic11\", \"Topic11\", \"Topic12\", \"Topic12\", \"Topic12\", \"Topic12\", \"Topic12\", \"Topic12\", \"Topic12\", \"Topic12\", \"Topic12\", \"Topic12\", \"Topic12\", \"Topic12\", \"Topic12\", \"Topic12\", \"Topic12\", \"Topic12\", \"Topic12\", \"Topic12\", \"Topic12\", \"Topic12\", \"Topic12\", \"Topic12\", \"Topic12\", \"Topic12\", \"Topic12\", \"Topic12\", \"Topic12\", \"Topic12\", \"Topic12\", \"Topic12\", \"Topic12\", \"Topic12\", \"Topic12\", \"Topic12\", \"Topic12\", \"Topic12\", \"Topic13\", \"Topic13\", \"Topic13\", \"Topic13\", \"Topic13\", \"Topic13\", \"Topic13\", \"Topic13\", \"Topic13\", \"Topic13\", \"Topic13\", \"Topic13\", \"Topic13\", \"Topic13\", \"Topic13\", \"Topic13\", \"Topic13\", \"Topic13\", \"Topic13\", \"Topic13\", \"Topic13\", \"Topic13\", \"Topic13\", \"Topic13\", \"Topic13\", \"Topic13\", \"Topic13\", \"Topic13\", \"Topic13\", \"Topic13\", \"Topic13\", \"Topic13\", \"Topic14\", \"Topic14\", \"Topic14\", \"Topic14\", \"Topic14\", \"Topic14\", \"Topic14\", \"Topic14\", \"Topic14\", \"Topic14\", \"Topic14\", \"Topic14\", \"Topic14\", \"Topic14\", \"Topic14\", \"Topic14\", \"Topic14\", \"Topic14\", \"Topic14\", \"Topic14\", \"Topic14\", \"Topic14\", \"Topic14\", \"Topic14\", \"Topic14\", \"Topic14\", \"Topic14\", \"Topic14\", \"Topic14\", \"Topic14\", \"Topic14\", \"Topic14\", \"Topic14\", \"Topic15\", \"Topic15\", \"Topic15\", \"Topic15\", \"Topic15\", \"Topic15\", \"Topic15\", \"Topic15\", \"Topic15\", \"Topic15\", \"Topic15\", \"Topic15\", \"Topic15\", \"Topic15\", \"Topic15\", \"Topic15\", \"Topic15\", \"Topic15\", \"Topic15\", \"Topic15\", \"Topic15\", \"Topic15\", \"Topic15\", \"Topic15\", \"Topic15\", \"Topic15\", \"Topic15\", \"Topic15\", \"Topic15\", \"Topic15\", \"Topic15\", \"Topic15\", \"Topic15\", \"Topic16\", \"Topic16\", \"Topic16\", \"Topic16\", \"Topic16\", \"Topic16\", \"Topic16\", \"Topic16\", \"Topic16\", \"Topic16\", \"Topic16\", \"Topic16\", \"Topic16\", \"Topic16\", \"Topic16\", \"Topic16\", \"Topic16\", \"Topic16\", \"Topic16\", \"Topic16\", \"Topic16\", \"Topic16\", \"Topic16\", \"Topic16\", \"Topic16\", \"Topic16\", \"Topic16\", \"Topic16\", \"Topic16\", \"Topic16\", \"Topic16\", \"Topic16\", \"Topic16\", \"Topic17\", \"Topic17\", \"Topic17\", \"Topic17\", \"Topic17\", \"Topic17\", \"Topic17\", \"Topic17\", \"Topic17\", \"Topic17\", \"Topic17\", \"Topic17\", \"Topic17\", \"Topic17\", \"Topic17\", \"Topic17\", \"Topic17\", \"Topic17\", \"Topic17\", \"Topic17\", \"Topic17\", \"Topic17\", \"Topic17\", \"Topic17\", \"Topic17\", \"Topic17\", \"Topic17\", \"Topic17\", \"Topic17\", \"Topic17\", \"Topic17\", \"Topic17\", \"Topic17\", \"Topic17\", \"Topic17\", \"Topic17\", \"Topic18\", \"Topic18\", \"Topic18\", \"Topic18\", \"Topic18\", \"Topic18\", \"Topic18\", \"Topic18\", \"Topic18\", \"Topic18\", \"Topic18\", \"Topic18\", \"Topic18\", \"Topic18\", \"Topic18\", \"Topic18\", \"Topic18\", \"Topic18\", \"Topic18\", \"Topic18\", \"Topic18\", \"Topic18\", \"Topic18\", \"Topic18\", \"Topic18\", \"Topic18\", \"Topic18\", \"Topic18\", \"Topic18\", \"Topic18\", \"Topic18\", \"Topic18\", \"Topic18\", \"Topic18\", \"Topic18\", \"Topic18\", \"Topic18\", \"Topic18\", \"Topic18\", \"Topic19\", \"Topic19\", \"Topic19\", \"Topic19\", \"Topic19\", \"Topic19\", \"Topic19\", \"Topic19\", \"Topic19\", \"Topic19\", \"Topic19\", \"Topic19\", \"Topic19\", \"Topic19\", \"Topic19\", \"Topic19\", \"Topic19\", \"Topic19\", \"Topic19\", \"Topic19\", \"Topic19\", \"Topic19\", \"Topic19\", \"Topic19\", \"Topic19\", \"Topic19\", \"Topic19\", \"Topic19\", \"Topic19\", \"Topic19\", \"Topic19\", \"Topic19\", \"Topic19\", \"Topic19\", \"Topic19\", \"Topic19\", \"Topic20\", \"Topic20\", \"Topic20\", \"Topic20\", \"Topic20\", \"Topic20\", \"Topic20\", \"Topic20\", \"Topic20\", \"Topic20\", \"Topic20\", \"Topic20\", \"Topic20\", \"Topic20\", \"Topic20\", \"Topic20\", \"Topic20\", \"Topic20\", \"Topic20\", \"Topic20\", \"Topic20\", \"Topic20\", \"Topic20\", \"Topic20\", \"Topic20\", \"Topic20\", \"Topic20\", \"Topic20\", \"Topic20\", \"Topic20\", \"Topic20\", \"Topic20\", \"Topic20\", \"Topic20\", \"Topic20\"], \"logprob\": [30.0, 29.0, 28.0, 27.0, 26.0, 25.0, 24.0, 23.0, 22.0, 21.0, 20.0, 19.0, 18.0, 17.0, 16.0, 15.0, 14.0, 13.0, 12.0, 11.0, 10.0, 9.0, 8.0, 7.0, 6.0, 5.0, 4.0, 3.0, 2.0, 1.0, -3.1159, -3.4678, -3.7036, -3.9226, -3.9576, -4.2172, -4.2417, -4.282, -4.3978, -4.4404, -4.4635, -4.4806, -4.5143, -4.5243, -4.6049, -4.636, -4.6368, -4.6611, -4.6932, -4.701, -4.7329, -4.738, -4.7842, -4.8505, -4.874, -4.9165, -4.9364, -5.0098, -5.0778, -5.1113, -4.1069, -4.2213, -3.7144, -3.996, -4.7367, -3.9801, -4.6841, -4.7185, -2.9664, -3.5604, -3.5521, -3.7401, -3.7676, -3.7888, -3.8569, -4.0133, -1.4641, -4.3353, -4.6041, -4.7809, -4.8703, -4.9064, -4.9232, -5.112, -4.0901, -3.2654, -5.3254, -5.3585, -5.3805, -5.3865, -5.4133, -5.46, -5.5119, -5.5323, -5.5818, -5.6077, -5.6408, -5.6408, -4.6146, -3.6866, -3.9941, -4.7601, -4.8495, -3.8446, -4.3844, -4.1012, -4.6958, -4.979, -5.3461, -5.3075, -2.5036, -3.7568, -3.8489, -3.8714, -4.0131, -4.1863, -4.2965, -4.3133, -4.5225, -4.5804, -4.6783, -4.714, -4.7484, -4.7948, -4.8598, -4.9067, -4.2493, -4.9354, -4.9671, -4.9844, -4.9968, -5.0399, -5.0515, -5.0658, -5.1198, -5.1534, -5.206, -5.3256, -5.3739, -5.3893, -4.8771, -3.7675, -4.6573, -3.309, -3.4996, -4.5099, -4.6206, -4.9254, -4.4841, -4.754, -3.2935, -3.3947, -3.5005, -3.6173, -3.9809, -4.2301, -4.2407, -4.3059, -4.23, -4.3824, -4.4848, -4.7764, -4.8996, -4.9255, -4.9513, -5.0207, -3.8699, -5.1893, -5.3441, -5.4357, -5.4823, -4.1287, -5.5669, -4.2045, -5.6397, -5.6444, -5.6545, -2.2809, -5.7767, -4.0597, -2.5673, -2.4184, -4.4367, -3.7456, -4.7115, -4.3751, -5.2353, -4.5714, -3.7684, -3.823, -3.8827, -4.0979, -4.1663, -4.1866, -4.2558, -4.2782, -4.342, -4.4347, -4.4682, -4.4894, -4.2434, -4.5783, -4.6422, -4.6842, -4.1649, -4.7689, -4.785, -4.838, -4.8594, -4.9142, -4.916, -4.9721, -4.9772, -5.0326, -5.0653, -5.1029, -5.1538, -5.1724, -4.5747, -3.6519, -3.9099, -4.8755, -4.659, -3.9267, -4.2306, -4.5615, -4.6674, -4.7224, -4.7263, -3.4775, -3.7224, -3.7587, -3.9061, -4.2478, -4.353, -4.4065, -4.4206, -4.5717, -4.6115, -4.647, -4.7174, -4.7692, -4.8023, -3.1538, -4.8727, -4.9065, -4.9368, -4.944, -4.952, -5.0079, -5.035, -5.0611, -5.0739, -5.1079, -5.1667, -5.216, -5.2387, -5.2482, -5.2813, -4.7513, -4.9525, -4.5695, -4.8077, -5.0043, -3.7807, -3.8043, -3.8812, -3.984, -3.9936, -4.1639, -4.3247, -4.5625, -4.6072, -4.7331, -4.7487, -4.7637, -4.7916, -4.8401, -4.8818, -4.8935, -4.9501, -4.9824, -5.0119, -5.0231, -3.4179, -5.0827, -5.0884, -4.3712, -5.165, -5.1746, -5.1747, -5.1818, -5.191, -5.1913, -4.4559, -4.6638, -4.8401, -4.162, -4.4276, -4.4965, -4.7895, -4.9617, -5.0019, -2.7458, -2.7669, -3.2584, -3.4501, -3.4848, -3.8101, -3.9553, -3.1317, -2.944, -4.4719, -4.6411, -4.7354, -4.738, -4.7608, -4.9223, -4.9871, -4.6898, -5.3988, -5.4081, -3.5988, -4.5681, -5.6658, -5.6833, -5.7324, -5.8221, -5.8221, -5.8225, -5.9005, -4.9813, -6.0421, -4.4316, -3.7813, -3.4229, -4.6886, -4.7156, -5.3039, -3.4811, -3.6402, -4.0038, -2.7531, -4.2678, -4.2719, -4.2961, -4.3334, -4.422, -4.6026, -4.6871, -4.7352, -4.7863, -4.8265, -4.8403, -4.9051, -4.9279, -5.0518, -5.0616, -5.1029, -5.107, -5.133, -5.1748, -5.2108, -5.2228, -4.3161, -5.276, -5.321, -5.3562, -5.3573, -4.3417, -4.1086, -4.3338, -5.2391, -3.6361, -3.674, -3.7983, -3.9969, -4.0238, -4.0465, -4.4257, -4.4721, -4.4767, -4.5669, -4.572, -4.5883, -4.5967, -4.1223, -4.6474, -4.6712, -4.7351, -4.7771, -4.9328, -4.9421, -4.9427, -5.0329, -5.0637, -5.0883, -5.0894, -4.2072, -5.2249, -5.2327, -5.3128, -5.3978, -3.346, -4.3498, -4.4775, -4.9455, -4.6442, -4.9533, -2.8538, -3.2086, -3.5857, -3.8858, -3.969, -4.3828, -4.5725, -4.596, -4.6697, -4.6889, -4.9112, -4.9202, -3.9598, -4.9701, -5.1381, -5.1459, -5.198, -5.2107, -5.2556, -5.2666, -5.2911, -3.4428, -5.3488, -5.4695, -4.3318, -5.5426, -5.6054, -5.764, -5.9236, -5.9247, -4.1054, -4.9928, -3.1774, -5.1807, -5.3557, -5.3955, -2.7634, -3.1058, -3.3337, -3.8961, -4.014, -4.1238, -4.197, -4.2659, -4.3167, -4.3513, -4.4089, -4.575, -4.593, -4.6284, -4.6823, -4.7811, -5.1581, -5.1824, -5.2002, -5.2061, -5.2172, -5.4333, -5.4963, -4.8544, -5.658, -5.6872, -5.8152, -5.8152, -5.8158, -5.9322, -4.9547, -5.1144, -4.2363, -4.8034, -5.2523, -5.2192, -2.6169, -2.8841, -3.6817, -3.9954, -4.108, -4.1212, -4.2332, -4.3907, -4.5487, -4.7088, -4.7436, -4.8112, -4.8455, -4.9432, -5.0542, -4.818, -5.0858, -5.146, -5.1831, -5.2502, -5.2511, -5.3398, -5.4188, -5.4867, -5.4888, -5.4014, -4.355, -6.5782, -6.5782, -6.5782, -5.668, -5.7218, -3.0764, -3.5706, -4.0817, -4.1808, -4.2381, -4.2467, -4.2467, -4.3755, -4.4144, -4.4332, -4.5714, -4.6978, -4.9138, -4.9836, -4.9998, -5.0127, -5.0535, -5.1202, -5.1202, -5.2513, -5.4, -5.4, -5.5396, -5.5401, -5.6679, -5.6687, -3.5463, -5.7855, -4.5694, -6.5254, -4.9073, -5.0625, -4.8824, -4.3498, -4.4673, -4.5547, -4.5567, -4.5979, -4.7706, -4.8127, -4.8568, -4.857, -4.8571, -4.9103, -4.9152, -4.9868, -5.0863, -5.0863, -5.0863, -5.29, -5.2903, -5.3634, -5.3646, -5.5254, -5.5285, -5.7481, -5.7481, -5.7481, -5.7481, -5.7481, -5.7481, -5.7481, -5.7481, -4.1674, -4.9221, -5.055, -3.6713, -3.6883, -3.7964, -4.0393, -4.1418, -4.2992, -4.3111, -4.6091, -4.889, -5.0724, -5.073, -5.0889, -5.1461, -5.2241, -5.5269, -5.6443, -5.6443, -5.6443, -5.6446, -5.6454, -5.7504, -5.7504, -5.7504, -5.7504, -5.7601, -5.2357, -6.3838, -6.3838, -6.3838, -6.3838, -4.6649, -5.5042, -5.9554, -3.3475, -3.9011, -4.4476, -4.5182, -4.6149, -4.774, -4.816, -4.8161, -4.8391, -5.0149, -3.9454, -5.2491, -5.6699, -2.3463, -4.9218, -5.6437, -8.556, -8.5566, -8.5566, -8.5566, -8.5566, -8.5566, -8.5566, -8.5566, -8.5566, -8.5566, -8.5566, -8.5566, -8.5566, -8.5566, -8.5566, -8.5566, -8.5566, -8.5566, -8.5566, -8.5557, -2.6213, -3.7896, -3.8334, -4.5756, -4.9118, -4.9773, -5.1153, -5.3034, -5.6633, -4.9783, -6.2887, -6.2887, -8.4361, -8.4361, -8.4363, -8.4364, -8.4364, -8.4364, -8.4364, -8.4364, -8.4364, -8.4364, -8.4364, -8.4364, -8.4364, -8.4364, -8.4364, -8.4364, -8.4364, -8.4364, -8.4364, -8.4364, -8.4364, -8.4364, -8.4364, -8.4364, -8.4314, -8.4356, -8.4363, -3.5331, -4.2758, -4.6368, -4.8196, -4.8197, -5.2118, -5.34, -5.4576, -6.1973, -8.3444, -8.3444, -8.3444, -8.3444, -8.3444, -8.3444, -8.3444, -8.3444, -8.3444, -8.3444, -8.3444, -8.3444, -8.3444, -8.3444, -8.3444, -8.3444, -8.3444, -8.3444, -8.3444, -8.3444, -8.3444, -8.3444, -8.3444, -8.3444, -8.3444, -8.3444, -8.3444, -3.8558, -4.3528, -4.6779, -4.6991, -4.8626, -5.2054, -5.3338, -5.5573, -6.1909, -6.1909, -6.1909, -8.3384, -8.3384, -8.3384, -8.3384, -8.3384, -8.3384, -8.3384, -8.3384, -8.3384, -8.3384, -8.3384, -8.3384, -8.3384, -8.3384, -8.3384, -8.3384, -8.3384, -8.3384, -8.3384, -8.3384, -8.3384, -8.3384, -8.3384, -8.3384], \"loglift\": [30.0, 29.0, 28.0, 27.0, 26.0, 25.0, 24.0, 23.0, 22.0, 21.0, 20.0, 19.0, 18.0, 17.0, 16.0, 15.0, 14.0, 13.0, 12.0, 11.0, 10.0, 9.0, 8.0, 7.0, 6.0, 5.0, 4.0, 3.0, 2.0, 1.0, 0.9854, 0.984, 0.9819, 0.9811, 0.9809, 0.9785, 0.9782, 0.9774, 0.9764, 0.9759, 0.9756, 0.9754, 0.9749, 0.9748, 0.9736, 0.9731, 0.9731, 0.9727, 0.9722, 0.972, 0.9715, 0.9714, 0.9706, 0.9693, 0.9689, 0.968, 0.9676, 0.966, 0.9644, 0.9636, 0.954, 0.9526, 0.907, 0.8407, 0.9144, 0.5984, 0.5926, 0.451, 1.9191, 1.9128, 1.9128, 1.91, 1.9096, 1.9092, 1.908, 1.9048, 1.9045, 1.8965, 1.8873, 1.8798, 1.8755, 1.8737, 1.8728, 1.8619, 1.8513, 1.8494, 1.8471, 1.8445, 1.8427, 1.8423, 1.84, 1.8361, 1.8315, 1.8296, 1.8249, 1.8224, 1.819, 1.819, 1.7957, 1.7566, 1.7203, 1.6465, 1.5562, 1.1267, 1.3024, 0.4773, 0.7808, -0.2617, 1.6528, -0.6861, 2.5596, 2.5368, 2.5338, 2.533, 2.5276, 2.5199, 2.5143, 2.5134, 2.5009, 2.497, 2.4898, 2.487, 2.4843, 2.4804, 2.4748, 2.4704, 2.4682, 2.4677, 2.4646, 2.4629, 2.4616, 2.4571, 2.4559, 2.4543, 2.4483, 2.4445, 2.4381, 2.4227, 2.4159, 2.4137, 2.4045, 2.3427, 2.383, 2.1677, 1.6699, 1.8868, 1.793, 2.112, 0.3526, 0.9902, 2.6574, 2.655, 2.6522, 2.6487, 2.6351, 2.6223, 2.6219, 2.6181, 2.6143, 2.6133, 2.606, 2.5824, 2.5702, 2.5674, 2.5647, 2.5568, 2.5465, 2.5357, 2.5133, 2.4986, 2.4907, 2.4842, 2.4756, 2.4625, 2.4617, 2.4608, 2.4588, 2.446, 2.4332, 2.4199, 2.3376, 2.2989, 2.3371, 1.5312, 1.8458, 0.2034, 1.773, -1.2028, 2.9791, 2.9762, 2.973, 2.9595, 2.9546, 2.9531, 2.9478, 2.946, 2.9406, 2.9322, 2.929, 2.927, 2.9261, 2.9178, 2.9108, 2.9059, 2.899, 2.8956, 2.8935, 2.8866, 2.8837, 2.876, 2.8757, 2.8674, 2.8667, 2.8581, 2.8528, 2.8466, 2.8378, 2.8345, 2.8283, 2.7419, 2.7153, 2.8044, 2.7401, 2.334, 2.3267, 1.8352, 1.7383, 1.9948, 1.1346, 3.0748, 3.0633, 3.0613, 3.0527, 3.0274, 3.0178, 3.0126, 3.0112, 2.9949, 2.9902, 2.9859, 2.9769, 2.97, 2.9654, 2.9646, 2.9551, 2.95, 2.9452, 2.9441, 2.9428, 2.9336, 2.929, 2.9245, 2.9222, 2.9161, 2.9051, 2.8955, 2.8909, 2.889, 2.8822, 2.5974, 2.6112, 1.7654, 1.9913, 1.4753, 3.0777, 3.0763, 3.0717, 3.065, 3.0643, 3.0515, 3.0374, 3.0125, 3.0072, 2.9911, 2.989, 2.9869, 2.983, 2.9759, 2.9697, 2.9678, 2.9589, 2.9536, 2.9486, 2.9466, 2.9361, 2.9361, 2.9351, 2.9346, 2.9206, 2.9188, 2.9188, 2.9174, 2.9156, 2.9155, 2.9135, 2.854, 2.8628, 2.6713, 2.5181, 2.5117, 2.3932, 1.6635, 1.3918, 3.2222, 3.2217, 3.2065, 3.1984, 3.1967, 3.1784, 3.1683, 3.1271, 3.1221, 3.119, 3.0972, 3.0836, 3.0833, 3.0798, 3.0533, 3.0416, 3.0306, 2.9517, 2.9493, 2.9373, 2.9173, 2.8765, 2.8711, 2.8555, 2.8256, 2.8256, 2.8255, 2.798, 2.7529, 2.7446, 2.5816, 1.9629, 1.2944, 1.8616, 1.691, 1.3631, 3.4401, 3.4296, 3.3989, 3.3941, 3.3695, 3.3689, 3.3659, 3.361, 3.3488, 3.3208, 3.3062, 3.2975, 3.2878, 3.2798, 3.2771, 3.2636, 3.2587, 3.2305, 3.2281, 3.218, 3.217, 3.2105, 3.1997, 3.1901, 3.1869, 3.1832, 3.1722, 3.1593, 3.1489, 3.1486, 2.9034, 2.6086, 1.7764, 2.8709, 3.4948, 3.4919, 3.4816, 3.4625, 3.4596, 3.4572, 3.4078, 3.4005, 3.3998, 3.3849, 3.384, 3.3812, 3.3797, 3.3779, 3.3706, 3.3662, 3.3539, 3.3454, 3.3117, 3.3095, 3.3094, 3.2877, 3.28, 3.2737, 3.2734, 3.2706, 3.2365, 3.2342, 3.2105, 3.1839, 2.9889, 3.0595, 2.8595, 2.5507, 1.7525, 2.4918, 3.8271, 3.8065, 3.7757, 3.7424, 3.7315, 3.6643, 3.625, 3.6197, 3.6025, 3.5979, 3.539, 3.5364, 3.5335, 3.5217, 3.4684, 3.4658, 3.4479, 3.4434, 3.4274, 3.4234, 3.4144, 3.4111, 3.3926, 3.3445, 3.3411, 3.3137, 3.2861, 3.2122, 3.1315, 3.1309, 3.0773, 3.094, 1.7939, 1.1733, 2.0434, 2.1038, 3.9106, 3.8909, 3.8739, 3.8133, 3.7964, 3.779, 3.7664, 3.7539, 3.7443, 3.7375, 3.7257, 3.6886, 3.6843, 3.6756, 3.662, 3.6356, 3.516, 3.5072, 3.5007, 3.4986, 3.4944, 3.4084, 3.3812, 3.3278, 3.3069, 3.2928, 3.2284, 3.2283, 3.2281, 3.1659, 2.9048, 2.9424, 2.5375, 2.6936, 2.2331, 1.4981, 4.1437, 4.1276, 4.0473, 3.9969, 3.9754, 3.9728, 3.9491, 3.9122, 3.8704, 3.823, 3.812, 3.7898, 3.7782, 3.7435, 3.7015, 3.6961, 3.689, 3.6646, 3.6491, 3.6201, 3.6197, 3.5798, 3.5426, 3.5093, 3.5083, 3.3766, 3.3521, 2.8235, 2.8235, 2.8235, 1.7591, 0.8355, 4.1665, 4.1128, 4.0271, 4.006, 3.993, 3.991, 3.991, 3.9594, 3.9493, 3.9443, 3.9053, 3.8661, 3.7911, 3.7645, 3.7582, 3.7531, 3.7368, 3.7092, 3.7092, 3.6518, 3.5815, 3.5815, 3.5106, 3.5103, 3.441, 3.4406, 3.4232, 3.3738, 3.3676, 2.8775, 2.8258, 2.4153, 2.1308, 4.2543, 4.2128, 4.1799, 4.1791, 4.1629, 4.0907, 4.072, 4.0519, 4.0518, 4.0518, 4.0269, 4.0246, 3.9899, 3.9396, 3.9396, 3.9396, 3.8289, 3.8288, 3.7865, 3.7859, 3.6884, 3.6865, 3.5435, 3.5435, 3.5435, 3.5435, 3.5435, 3.5435, 3.5435, 3.5435, 3.281, 3.1347, 2.282, 4.4837, 4.48, 4.4552, 4.3914, 4.361, 4.31, 4.3058, 4.1928, 4.0671, 3.9741, 3.9738, 3.9654, 3.9344, 3.8909, 3.7081, 3.6315, 3.6315, 3.6315, 3.6312, 3.6307, 3.5595, 3.5595, 3.5595, 3.5595, 3.5529, 3.1815, 3.0837, 3.0837, 3.0837, 3.0837, 2.6553, 2.1758, 1.6112, 4.6109, 4.4866, 4.3044, 4.2759, 4.2348, 4.1623, 4.1421, 4.1421, 4.1308, 4.0405, 4.0165, 3.9082, 3.6378, 3.5768, 3.2065, 2.0683, 1.0984, 1.0979, 1.0979, 1.0979, 1.0979, 1.0979, 1.0978, 1.0978, 1.0978, 1.0978, 1.0978, 1.0978, 1.0978, 1.0978, 1.0978, 1.0978, 1.0978, 1.0978, 1.0978, -0.9228, 5.3889, 5.0363, 5.0171, 4.6208, 4.3979, 4.3517, 4.2513, 4.1088, 3.8192, 3.7997, 3.2754, 3.2754, 1.2183, 1.2182, 1.2181, 1.2181, 1.2181, 1.2181, 1.2181, 1.2181, 1.2181, 1.2181, 1.218, 1.218, 1.218, 1.218, 1.218, 1.218, 1.218, 1.218, 1.218, 1.218, 1.218, 1.218, 1.218, 1.218, 0.0647, -2.8017, -0.4075, 5.2919, 4.9029, 4.666, 4.5353, 4.5352, 4.2336, 4.1294, 4.0317, 3.38, 1.3101, 1.3101, 1.3101, 1.3101, 1.3101, 1.3101, 1.3101, 1.3101, 1.3101, 1.3101, 1.3101, 1.3101, 1.3101, 1.3101, 1.3101, 1.3101, 1.31, 1.31, 1.31, 1.31, 1.31, 1.31, 1.31, 1.31, 1.31, 1.31, 1.31, 5.229, 4.9207, 4.6895, 4.6737, 4.5489, 4.2729, 4.1651, 3.9724, 3.3993, 3.3993, 3.3993, 1.3161, 1.3161, 1.3161, 1.3161, 1.3161, 1.3161, 1.3161, 1.3161, 1.3161, 1.3161, 1.3161, 1.316, 1.316, 1.316, 1.316, 1.316, 1.316, 1.316, 1.316, 1.316, 1.316, 1.316, 1.316, 1.316]}, \"token.table\": {\"Topic\": [4, 8, 6, 18, 6, 6, 11, 5, 12, 4, 2, 4, 7, 1, 12, 1, 8, 11, 10, 6, 8, 14, 3, 1, 3, 4, 3, 1, 4, 11, 17, 5, 16, 4, 1, 3, 4, 3, 14, 2, 10, 10, 13, 16, 9, 17, 13, 7, 8, 1, 13, 14, 7, 1, 2, 11, 5, 4, 16, 3, 11, 15, 12, 3, 5, 11, 10, 8, 11, 3, 8, 6, 7, 9, 16, 2, 10, 11, 10, 9, 15, 13, 7, 13, 3, 14, 9, 5, 9, 13, 11, 7, 14, 11, 6, 14, 3, 1, 13, 9, 1, 2, 3, 5, 14, 8, 16, 1, 5, 1, 5, 12, 14, 11, 6, 1, 4, 15, 1, 1, 2, 7, 2, 14, 13, 9, 6, 15, 7, 11, 1, 10, 9, 15, 12, 7, 7, 7, 10, 6, 7, 3, 2, 10, 7, 10, 15, 2, 8, 1, 10, 11, 10, 11, 5, 15, 12, 8, 6, 2, 1, 15, 7, 15, 13, 10, 5, 12, 17, 4, 7, 18, 3, 2, 1, 5, 5, 5, 3, 9, 12, 6, 12, 1, 3, 11, 1, 5, 16, 3, 8, 2, 2, 12, 9, 20, 9, 12, 12, 7, 1, 5, 2, 5, 10, 12, 1, 1, 4, 3, 3, 11, 12, 8, 4, 15, 4, 14, 10, 2, 10, 4, 2, 11, 1, 3, 8, 2, 1, 4, 3, 1, 5, 9, 10, 3, 11, 3, 3, 7, 8, 9, 11, 6, 8, 5, 1, 13, 10, 4, 5, 7, 16, 4, 14, 10, 14, 16, 3, 7, 6, 12, 4, 14, 14, 13, 9, 9, 5, 2, 14, 15, 16, 6, 1, 9, 12, 18, 1, 3, 9, 12, 7, 11, 4, 6, 1, 8, 7, 9, 10, 3, 8, 20, 1, 16, 4, 5, 11, 5, 7, 9, 2, 6, 7, 2, 3, 11, 4, 7, 7, 13, 15, 15, 11, 7, 4, 5, 13, 12, 3, 8, 4, 13, 3, 4, 4, 6, 3, 7, 11, 15, 5, 12, 5, 9, 15, 1, 17, 10, 1, 2, 4, 8, 2, 10, 10, 10, 6, 1, 13, 15, 15, 1, 14, 13, 1, 10, 7, 11, 7, 13, 3, 9, 1, 3, 3, 5, 6, 3, 17, 7, 11, 6, 12, 6, 9, 9, 1, 11, 14, 14, 6, 5, 19, 2, 16, 5, 2, 15, 5, 9, 2, 12, 17, 10, 11, 17, 15, 8, 6, 2, 4, 17, 11, 14, 14, 16, 16, 6, 16, 8, 7, 8, 14, 13, 16, 11, 9, 1, 6, 3, 6, 16, 12, 5, 6, 2, 13, 14, 8, 10, 12, 15, 6, 15, 1, 8, 13, 5, 16, 2, 5, 7, 12, 9, 1, 9, 17, 13, 2, 12, 4, 12, 3, 16, 3, 16, 12, 11, 17, 1, 6, 16, 5, 6, 2, 9, 14, 5, 11, 1, 3, 8, 14, 7, 3, 10, 5, 6, 10, 6, 7, 12, 5, 11, 3, 7, 17, 13, 13, 4, 10, 3, 11, 2, 15, 5, 7, 1, 5, 3, 5, 10, 8, 6, 14, 8, 6, 3, 10, 7, 4, 10, 12, 5, 6, 10, 6, 8, 8, 7, 1, 5, 10, 14, 9, 13, 3, 14, 16, 5, 7, 12, 18, 12, 5, 12, 5, 6, 9, 11, 12, 17, 11, 8, 7, 13, 2, 3, 9, 2, 3, 2, 3, 6, 14, 7, 9, 7, 4, 6, 3, 3, 4, 7, 17, 2, 2, 8, 7, 2, 4, 10, 8, 12, 7, 10, 19, 1, 7, 1, 4, 2, 7, 10, 3, 13, 8, 1, 8, 12, 2, 6, 5, 6, 10, 16, 15, 3, 14, 10, 3, 9, 4, 2, 4, 3, 4, 1, 4, 4, 1, 2, 13, 12, 2, 7, 7, 1, 16, 1, 9, 1, 2, 4, 13, 2, 12, 8, 13, 8, 1, 17, 10, 6, 3, 5, 1, 8, 7, 9, 4, 11, 4, 8, 5, 9, 7, 9, 11, 14, 10, 15, 14, 7, 1, 2, 15, 11, 14, 11, 10, 6, 7, 7], \"Freq\": [0.8068533155614417, 0.9017978074285156, 0.8202221810352027, 0.7278659985003845, 0.849425544137756, 0.21705055948580407, 0.7596769582003142, 0.912000048959958, 0.9565179161346987, 0.9747950510633616, 0.13496851186186892, 0.8098110711712135, 0.7840162370521622, 0.9896778532142496, 0.7873375194118722, 0.9877074000232073, 0.921453092298781, 0.517333770807857, 0.8595820646552236, 0.9739830506869186, 0.963974036353357, 0.7611736565907381, 0.8713890265066694, 0.8606198997338846, 0.10662547430331314, 0.02284831592213853, 0.8695550165670727, 0.285400797884483, 0.709424840455715, 0.8010195304121788, 0.4213045415847282, 0.9014416357134187, 0.662406784593999, 0.9485722830301362, 0.5160909628053211, 0.442363682404561, 0.8208564740206099, 0.9198417575560036, 0.4128080234119758, 0.944853551348504, 0.8795908053434409, 0.6079480392114438, 0.6721186564016136, 0.6450748114335558, 0.8992053867399793, 0.4695182394223104, 0.7314749248309256, 0.1041711646031118, 0.8854548991264503, 0.9843368990394156, 0.4051099775664473, 0.4806652519300361, 0.73411209504967, 0.41826892713076613, 0.45312467105833, 0.12199510374647346, 0.9122657049053281, 0.8264007198423031, 0.8412828255772288, 0.9355677542115177, 0.7181808056429798, 0.5691105354944997, 0.9246196394672748, 0.9472111379577619, 0.829774538504218, 0.8530228055081749, 0.6444715517843088, 0.831866316509539, 0.6704598558135206, 0.8912208912804575, 0.9679094474110811, 0.9097306494527065, 0.08472351918809969, 0.9037175380063966, 0.6193273569994192, 0.9390671443860731, 0.7760192229949139, 0.47808794283237777, 0.7875109369659008, 0.9288379554294198, 0.4262096404381735, 0.7670270349676405, 0.9202464050414128, 0.6278822455190626, 0.5141871642595456, 0.4499137687271024, 0.8946226651803498, 0.8930831259432795, 0.7758481378042786, 0.47106768184061504, 0.4065243681321462, 0.6896022771048681, 0.27584091084194723, 0.6606702140603996, 0.8325905123352826, 0.9292853453090627, 0.8725340691547717, 0.9914954392171389, 0.6131259079560301, 0.8804175279311224, 0.13968135698441575, 0.8380881419064946, 0.8804577232061417, 0.9214852877885796, 0.8033071730877651, 0.9700781014532305, 0.8313149191979312, 0.928651842779398, 0.051591769043299894, 0.47454619952978033, 0.5061826128317657, 0.4798923107148348, 0.5459908364170654, 0.6928978366656552, 0.9537761085152688, 0.20472985576411476, 0.7916221089545771, 0.6070490365253253, 0.9966413954969151, 0.44558334292275303, 0.5347000115073036, 0.737537206969869, 0.9792300672966778, 0.7687239274705197, 0.3921419772705427, 0.8920722102226875, 0.8264475593936725, 0.5024690715996181, 0.25975777529603555, 0.6493944382400888, 0.9900975330712991, 0.5714289946531611, 0.7444144682173607, 0.5024690715996181, 0.417925988644366, 0.9041129116319508, 0.8201820546331897, 0.8096242285821584, 0.08995824762023984, 0.8506224973545009, 0.10975774159412914, 0.9323207933228572, 0.9195776042422799, 0.04597888021211399, 0.37126324624958346, 0.46407905781197933, 0.09281581156239586, 0.7687213219675644, 0.21963466341930413, 0.9944618014829459, 0.8741699831778486, 0.10927124789723107, 0.7766800611253566, 0.5175993184865965, 0.9204538542678044, 0.7709382196893673, 0.7349100079157734, 0.8997545992365182, 0.9068427413946297, 0.9826869202597454, 0.6225308137980436, 0.20751027126601454, 0.8313465117751042, 0.4362811425358925, 0.4876891451482177, 0.744617685532705, 0.91416218697089, 0.7260952883749089, 0.5174615064241679, 0.4008579628358143, 0.5344772837810858, 0.42165067085980124, 0.8917936205428737, 0.9167855762909306, 0.9908874465178689, 0.9265733278600239, 0.8368715580524458, 0.921542364452377, 0.9431784819491875, 0.7858414154640451, 0.8242799908985003, 0.46955480518354326, 0.3130365367890289, 0.9794399140132664, 0.9808786014816845, 0.7198144262525141, 0.9803407694837152, 0.8934154049979434, 0.549306405318536, 0.09473700673500371, 0.8842120628600346, 0.9515574605050869, 0.9572274208455024, 0.8196735912561893, 0.7471387638165842, 0.643636885692667, 0.8459288063024242, 0.43316041721934345, 0.8940035437204148, 0.8990926700620078, 0.9926260461899359, 0.8761774784706045, 0.6948916318332085, 0.29258595024556144, 0.2161234644570145, 0.432246928914029, 0.9791325314470674, 0.9662856871719044, 0.8880237231050515, 0.9327464508900382, 0.8401739037475193, 0.42405093828842816, 0.540098653555416, 0.9037760430728371, 0.9236552567885686, 0.5024690715996181, 0.9477375952222381, 0.44437842266193, 0.9149255707336641, 0.5441585195228914, 0.3264951117137348, 0.9241609666608535, 0.895613272158059, 0.8475586918763799, 0.27515596489881017, 0.6191009210223228, 0.8171114651914473, 0.956273195253869, 0.9626074765984203, 0.028592301285101592, 0.9406934153279511, 0.984415646516407, 0.9043119277958687, 0.8069016434914479, 0.795995930499157, 0.3928959734414379, 0.3928959734414379, 0.9258510992139166, 0.9935254535008393, 0.7955972402587099, 0.6884924911123512, 0.7641823963717297, 0.21833782753477993, 0.8971273806266362, 0.7414847858590395, 0.8635423597190506, 0.995106364302431, 0.657047213783851, 0.9063432523036398, 0.2738099934439316, 0.3650799912585755, 0.2738099934439316, 0.09126999781464387, 0.8433916854882413, 0.5802376707669822, 0.7479190342031223, 0.10684557631473177, 0.5169276166317444, 0.37655130721904884, 0.5648269608285732, 0.8106475915138185, 0.4727050766779099, 0.797367356640062, 0.4128080234119758, 0.7289749582115874, 0.7831651425190537, 0.5969838042761987, 0.8772010707672482, 0.8973718227016227, 0.9250571841371706, 0.7773560708963951, 0.7509623814230068, 0.6676251960890596, 0.8724748514881828, 0.9950387347964268, 0.9236589252570999, 0.7657862647885171, 0.4113691765323935, 0.9604411127262057, 0.021343135838360127, 0.8013191431947905, 0.7130347664555624, 0.47726194306453856, 0.47726194306453856, 0.7875624985649344, 0.1968906246412336, 0.20833581079573749, 0.7500089188646549, 0.7669326165464858, 0.09586657706831073, 0.8144413161501405, 0.8278098790908848, 0.13796831318181413, 0.5328967216090513, 0.9952918578776013, 0.8525138132820227, 0.8003764559095179, 0.7900845138900328, 0.1975211284725082, 0.758916160080872, 0.18069432382877906, 0.03613886476575581, 0.9445449585316203, 0.8733830188640644, 0.8222148746069048, 0.3177659164399954, 0.6644196434654449, 0.5890750415720666, 0.9639995736101487, 0.8421736127117789, 0.862572120802677, 0.41394945749390577, 0.5514649281286914, 0.45981164708211236, 0.7561125463408797, 0.8737411690485661, 0.4256110732631222, 0.5107332879157467, 0.04256110732631222, 0.7033344089849544, 0.9627175261224926, 0.6484844156313059, 0.7517402672824746, 0.8216707108930166, 0.8433853655703052, 0.8887992379828333, 0.7809503730947036, 0.8054576882631095, 0.938459831175242, 0.8029438222092488, 0.13382397036820814, 0.4609990641988254, 0.8476449583700605, 0.07063707986417171, 0.8790222382975523, 0.7219197332327011, 0.7111540019344149, 0.6771597793483133, 0.2934359043842691, 0.6900303779361671, 0.06083354296686733, 0.1149078033818605, 0.6826875377392888, 0.1419449335893571, 0.9931485981265935, 0.9385842460632415, 0.7928617608635781, 0.6952887822370979, 0.9625926696839044, 0.9893559110555536, 0.6023667925272856, 0.6063380095594714, 0.47835437024765604, 0.507354965292907, 0.3382366435286047, 0.9388566299625224, 0.9799353090784791, 0.8618248093223104, 0.7762635049497051, 0.7094254450914289, 0.912759554133116, 0.8645555016786901, 0.33867344954129824, 0.5080101743119474, 0.584342539082037, 0.4037275724566802, 0.8832873734910304, 0.28172276183592765, 0.5634455236718553, 0.3467636599472753, 0.5201454899209129, 0.7910406962189198, 0.8693830903137951, 0.8465903461036305, 0.5115604796019433, 0.8687737380889519, 0.9186379665114512, 0.8101586705491571, 0.9936426791867371, 0.729401937027165, 0.868468268017728, 0.5461625362583956, 0.9184416417409116, 0.9244680511047013, 0.585382925935555, 0.5467284360531728, 0.2733642180265864, 0.9177222903685236, 0.9683422798074943, 0.5688336458209585, 0.8357927161377264, 0.8139869415158341, 0.984979762152855, 0.732355238142871, 0.7962570948510758, 0.876628689016675, 0.8559467062268935, 0.46952592302765445, 0.751875812710555, 0.9324975779244284, 0.9409313746790425, 0.9882430511700232, 0.9211767347123853, 0.7641550344085176, 0.6640719870961526, 0.6853472202313581, 0.6853472202313581, 0.6450748114335558, 0.6450748114335558, 0.8566750345789576, 0.5306844735289931, 0.6886783148106623, 0.33571322952874305, 0.5371411672459889, 0.13428529181149723, 0.8242303374405745, 0.6948952127308855, 0.8778460893322312, 0.8342013119104589, 0.8173981628095641, 0.7379791728482427, 0.34931964327916193, 0.5821994054652698, 0.5130821588300527, 0.8682500148212434, 0.7931305415272449, 0.09914131769090562, 0.892910695986952, 0.4302964181535924, 0.5148008721449242, 0.8374732349879492, 0.19063793143494467, 0.38127586286988935, 0.19063793143494467, 0.8641145378459233, 0.446959808980879, 0.7183920402255753, 0.2535501318443207, 0.781797915079763, 0.7847414679259096, 0.13079024465431827, 0.9912002464898475, 0.7288101987899841, 0.22775318712187004, 0.7179759829409288, 0.8528643864733606, 0.9768580198544496, 0.7618146559481543, 0.39848522865835045, 0.43007030391055784, 0.9162161696512218, 0.8171578034080693, 0.6870272454199703, 0.2642412482384501, 0.5915774548944058, 0.5956199347150123, 0.8758592642443036, 0.6451480547938989, 0.7069161595819493, 0.9631816652669252, 0.4750766101236574, 0.6503583020590717, 0.3251791510295359, 0.4016251647270605, 0.8871696105767168, 0.9341210883295227, 0.9884699069789024, 0.5974405962996555, 0.5741614547534799, 0.8205186640203251, 0.6872080241699242, 0.5095925397987281, 0.2076117754735559, 0.2831069665548489, 0.4806652519300361, 0.9420781268261291, 0.5170383738012713, 0.31022302428076276, 0.8606856809248621, 0.29933216100256427, 0.5986643220051285, 0.2178484453751109, 0.4356968907502218, 0.32677266806266636, 0.8562137761497985, 0.4392667237934962, 0.8781512484094662, 0.08781512484094663, 0.4593946115865349, 0.7158978582107395, 0.8937183260908972, 0.8871537010128383, 0.07392947508440319, 0.8991991954288426, 0.04995551085715792, 0.9444676590136614, 0.5515259295722884, 0.4051470283004901, 0.4051470283004901, 0.8272291138771455, 0.14847702043948766, 0.5074468808071015, 0.2899696461754866, 0.1449848230877433, 0.6196419270498011, 0.9287690242816788, 0.7553242595109328, 0.9170814667391569, 0.8877243547321224, 0.8923809403837152, 0.5746021748905804, 0.9046262217079618, 0.8479400774258876, 0.8771352640638385, 0.897073624820004, 0.1703685193780898, 0.2725896310049437, 0.5451792620098874, 0.2761715076887025, 0.552343015377405, 0.7671737252188432, 0.9518052816513338, 0.9744315344552913, 0.9143658690957703, 0.7619593414869145, 0.396961615653311, 0.7165747751438081, 0.4881979692101594, 0.949611749113683, 0.7747801116266478, 0.6453234762310256, 0.3365302570190755, 0.6169721378683051, 0.5114231913144635, 0.5958370675970803, 0.7287943427396247, 0.9068586439288637, 0.7339052701151227, 0.3495954405190118, 0.04994220578843026, 0.3995376463074421, 0.04994220578843026, 0.09988441157686052, 0.5730034261447106, 0.9418143595471835, 0.6271277352190436, 0.40315939921116495, 0.40315939921116495, 0.9253681168283215, 0.07040844367172011, 0.859336021741822, 0.8817572886529342, 0.07347977405441118, 0.8060898860138516, 0.10992134809279794, 0.05496067404639897, 0.6331361732196623, 0.20107834692667825, 0.6032350407800348, 0.8014479169305162, 0.9541385942604986, 0.780151458945307, 0.94967814726533, 0.8874991839292717, 0.971867184473675, 0.6143203982234536, 0.20477346607448454, 0.9439365521504383, 0.9916930351765869, 0.7910751835034208, 0.8574049541669105, 0.9773295038899726, 0.021055572794757043, 0.7335640398929447, 0.772504862565405, 0.8081806546178182, 0.7784451708841218, 0.11120645298344597, 0.410993542235868, 0.9903272756530966, 0.9408625199970174, 0.975539820218117, 0.9433480880061248, 0.7280623963994407, 0.06618749058176734, 0.1323749811635347, 0.8125147880804883, 0.10156434851006103, 0.6884575437831996, 0.9924256949835967, 0.7536598907386897, 0.21533139735391132, 0.9835481670017061, 0.8004057258253807, 0.8705753716769099, 0.8483804261122877, 0.8735067903261888, 0.4685865607594267, 0.446894786215639, 0.9306797754922672, 0.9186749364416711, 0.8581623914145311, 0.7892795715883636, 0.19051575865926018, 0.8678030125438708, 0.9726380778503864, 0.9735324864090558, 0.9183270434418125, 0.8766736451721999, 0.6741209816890741, 0.319320465010614, 0.9655522766321999, 0.9728478904182402, 0.8909829168107014, 0.45177927837131404, 0.5114057712190696, 0.9112039965195976, 0.7910042414444004, 0.948188542591333, 0.9720964596596496, 0.5129454535112047, 0.9879697072794713, 0.8682311555303345, 0.6765905804919689, 0.2353358540841631, 0.08236754892945708, 0.7914894498014003, 0.9340806690762691, 0.7624298515135094, 0.7243436226434584, 0.9385856752980305, 0.8788780521328586, 0.9771973872803909, 0.8638788358179414, 0.6949644109291493, 0.8052699645575697, 0.9650083655794053, 0.8774753245238157, 0.9773429994273779, 0.9638455038596663, 0.8016876832172984, 0.7448342029705597, 0.34353674943185686, 0.6298173739584042, 0.8074301468733396, 0.14248767297764817, 0.8072806473807671, 0.5823235751023306, 0.8335810343338087, 0.06946508619448406, 0.06946508619448406, 0.6808453447065829, 0.9440574504790966, 0.446941847871164, 0.7881360571033726, 0.8656751162035009, 0.9211722378074532, 0.07369377902459626, 0.659080506358672, 0.7552020715730907, 0.5149193177487379, 0.7132053742036979, 0.7478688099206934, 0.7740961249777508, 0.7848960739450829, 0.8446811638640408], \"Term\": [\"ac\", \"accelerated_learning\", \"across\", \"activadose\", \"active\", \"activity\", \"activity\", \"actually\", \"add\", \"adhd\", \"advice\", \"advice\", \"alpha\", \"alpha_stim\", \"already\", \"also\", \"amount\", \"amperage\", \"anhedonia\", \"anodal\", \"anode\", \"anterior\", \"antidepressant\", \"anxiety\", \"anxiety\", \"anxiety\", \"anybody\", \"anyone\", \"anyone\", \"anything\", \"anyways\", \"apex\", \"app\", \"appreciated\", \"area\", \"area\", \"areas\", \"article\", \"article_view\", \"ask\", \"asleep\", \"athletic\", \"australia\", \"auto_webp\", \"available\", \"aware\", \"away\", \"best\", \"best\", \"better\", \"bi\", \"biggest\", \"body\", \"brain\", \"brain\", \"brain\", \"brain_driver\", \"brain_fog\", \"braindriver\", \"brand\", \"build\", \"built\", \"bumble_bee\", \"bumblebee\", \"burn\", \"buying\", \"calls\", \"cannot\", \"case\", \"cathodal\", \"cathode\", \"certain\", \"ces\", \"ces\", \"changed\", \"channel\", \"choose\", \"chose\", \"chronic_pain\", \"circuit\", \"clinical_psychology\", \"clip\", \"clips\", \"close\", \"cognitive\", \"cognitive\", \"comes\", \"complete\", \"conditions\", \"connector\", \"consider\", \"considering\", \"considering\", \"constant\", \"control\", \"controlled\", \"cortex\", \"could\", \"couldnt\", \"curious\", \"current\", \"current\", \"currently\", \"cz\", \"daily\", \"darpa\", \"data\", \"day\", \"day\", \"days\", \"days\", \"dear\", \"decreased\", \"depending\", \"depressed\", \"depression\", \"depression\", \"develop\", \"device\", \"devices\", \"devices\", \"diagnosed\", \"different\", \"direct\", \"discovered\", \"diy\", \"dlpfc\", \"doctoral_candidate\", \"doesnt\", \"doesnt\", \"dont\", \"dorsolateral_prefrontal\", \"dr\", \"duquesne_university\", \"duration\", \"ear\", \"easy\", \"edit\", \"edit\", \"effect\", \"effect\", \"effective\", \"effects\", \"effects\", \"either\", \"either\", \"either\", \"electrode\", \"electrode\", \"electrodes\", \"else\", \"else\", \"emotional\", \"emotionless\", \"energy\", \"enhancement\", \"etc\", \"every\", \"executive\", \"experience\", \"experiences\", \"experiences\", \"experimental\", \"experiments\", \"extremely\", \"eyes\", \"fact\", \"failure\", \"falling\", \"far\", \"far\", \"favorite\", \"fc\", \"feedback\", \"feel\", \"feeling\", \"feels\", \"felt\", \"field\", \"finally\", \"finding\", \"fine\", \"fine\", \"first\", \"flow\", \"flow_neuroscience\", \"focus\", \"forehead\", \"format\", \"fp\", \"fp\", \"frequencies\", \"frequency\", \"friends\", \"front\", \"frontal\", \"fully\", \"games\", \"gamma\", \"gel\", \"get\", \"given\", \"go\", \"go\", \"goes\", \"goes\", \"good\", \"got\", \"great\", \"group\", \"guess\", \"guessing\", \"guidance\", \"guide\", \"guys\", \"guzmane_duqedu\", \"hair\", \"happened\", \"happening\", \"hard\", \"hard\", \"head\", \"headband\", \"headset\", \"health\", \"health\", \"heard\", \"hello\", \"help\", \"help\", \"helps\", \"hi\", \"high\", \"history\", \"hour\", \"hours\", \"hours\", \"http\", \"https\", \"huge\", \"hurt\", \"idea\", \"idea\", \"ideas\", \"ie\", \"ill\", \"im\", \"immediate\", \"improve\", \"improved\", \"improved\", \"improved\", \"improved\", \"improvement\", \"improves\", \"improving\", \"improving\", \"improving_insightfulness\", \"increase\", \"increase\", \"increased\", \"increases\", \"increasing\", \"indexphp\", \"individuals\", \"info\", \"injury\", \"insomnia\", \"instead\", \"interested\", \"interesting\", \"interview\", \"involved\", \"issues\", \"ive\", \"kind\", \"kinda\", \"kit\", \"know\", \"know\", \"knows\", \"lack\", \"last\", \"last\", \"learning\", \"learning\", \"left\", \"left\", \"less\", \"less\", \"lets\", \"life\", \"life\", \"liftid\", \"like\", \"list\", \"listed\", \"little\", \"little\", \"long\", \"long\", \"long\", \"long_term\", \"longer\", \"look\", \"looking\", \"looking\", \"looks\", \"lot\", \"love\", \"lower\", \"magnetic\", \"mailto\", \"mainly\", \"maintenance\", \"major\", \"make\", \"make\", \"make\", \"manual\", \"many\", \"mark\", \"math\", \"matter\", \"maybe\", \"means\", \"measure\", \"medical\", \"memory\", \"mental\", \"mental\", \"message\", \"might\", \"might\", \"min\", \"mind\", \"minute\", \"minutes\", \"minutes\", \"models\", \"montage\", \"montage\", \"montage\", \"montage\", \"montages\", \"mood\", \"morning\", \"motivation\", \"motor\", \"much\", \"muscle\", \"music\", \"musicians\", \"must\", \"must\", \"nan\", \"need\", \"needs\", \"network\", \"neural\", \"neurofeedback\", \"neuron_queen\", \"never\", \"never\", \"new\", \"new\", \"newbie\", \"next\", \"next\", \"night\", \"night\", \"none\", \"normal\", \"nothing\", \"numbers\", \"obviously\", \"ocd\", \"old\", \"one\", \"open\", \"option\", \"ordered\", \"original\", \"oz\", \"pads\", \"pages\", \"pages\", \"pain\", \"part\", \"participate\", \"particular\", \"patients\", \"people\", \"per\", \"per_day\", \"performance\", \"permanent\", \"persisted\", \"personal\", \"place\", \"placebo\", \"placement\", \"placements\", \"plan\", \"planning\", \"pmc\", \"pmc_articles\", \"png\", \"pngwidth\", \"point\", \"points\", \"positions\", \"positive\", \"positive\", \"positive\", \"possible\", \"post\", \"power\", \"premier\", \"previewreddit\", \"previous\", \"price\", \"price\", \"prl\", \"pro\", \"problem\", \"problem\", \"problems\", \"processing\", \"prompted\", \"protocol\", \"protocols\", \"protocols\", \"protocols\", \"ptsd\", \"purposes\", \"put\", \"put\", \"pz\", \"quality\", \"quality\", \"question\", \"questions\", \"questions\", \"reaction\", \"real\", \"really\", \"reasons\", \"recall\", \"receiving\", \"recommendations\", \"recommended\", \"red\", \"red\", \"reduce\", \"reducing\", \"reduction\", \"refer\", \"reference\", \"region\", \"regulation\", \"related\", \"related\", \"reliable\", \"relief\", \"report\", \"research\", \"researchers\", \"responses\", \"rest\", \"reviews\", \"right\", \"right\", \"right\", \"risks\", \"rtms\", \"safe\", \"safe\", \"saline_solution\", \"say\", \"say\", \"says\", \"says\", \"says\", \"scalp\", \"scared\", \"science\", \"science\", \"search\", \"searching\", \"second\", \"see\", \"see\", \"seem\", \"seem\", \"self\", \"send\", \"sensation\", \"sensation\", \"session\", \"session\", \"sessions\", \"sessions\", \"sessions\", \"setups\", \"several\", \"shit\", \"shoulder\", \"shown\", \"significant\", \"significantly\", \"similar\", \"simple\", \"skills\", \"skin\", \"sleep\", \"sleep\", \"sleep\", \"slight\", \"slight\", \"software\", \"someone\", \"something\", \"sometimes\", \"somewhere\", \"soon\", \"sounds\", \"speak\", \"specific\", \"speech_fluency\", \"spent\", \"sponge\", \"sponge\", \"sports\", \"starter\", \"starts\", \"state\", \"stick\", \"still\", \"still\", \"still\", \"still\", \"still\", \"stimulant\", \"stimulate\", \"stimulated\", \"stimulating\", \"stimulating\", \"stimulation\", \"stimulation\", \"stop\", \"studies\", \"studies\", \"study\", \"study\", \"study\", \"stuttering\", \"sub\", \"sub\", \"substances\", \"success\", \"suggest\", \"suggestions\", \"supraorbital\", \"sure\", \"switch\", \"switch\", \"symptoms\", \"tacs\", \"tape\", \"task\", \"tdcs\", \"tdcs\", \"tell\", \"temple\", \"tens\", \"terms\", \"terms\", \"thank\", \"thanks\", \"therapy\", \"thing\", \"things\", \"thinking\", \"thinking\", \"thinking\", \"though\", \"though\", \"till\", \"time\", \"times\", \"times\", \"tms\", \"told\", \"took\", \"total\", \"totally\", \"totaltdcscom\", \"towards\", \"transcranial\", \"transcranial_direct\", \"treat\", \"treatment\", \"treatment\", \"treatments\", \"trial\", \"tried\", \"trns\", \"trouble\", \"try\", \"try\", \"trying\", \"two\", \"type\", \"unable\", \"undergo\", \"understand\", \"understanding\", \"unit\", \"units\", \"updated\", \"used\", \"uses\", \"using\", \"using\", \"using\", \"vagus_nerve\", \"various\", \"video\", \"visualize\", \"vs\", \"wake\", \"want\", \"wanted\", \"wants\", \"website\", \"week\", \"weird\", \"well\", \"whats\", \"wiki\", \"within\", \"without\", \"without\", \"wondering\", \"wondering\", \"wont\", \"words\", \"work\", \"work\", \"work\", \"worked\", \"working_memory\", \"world\", \"worse\", \"worth\", \"would\", \"would\", \"writing\", \"wrong\", \"wrote\", \"wwwyoutubecom_watchv\", \"yes\", \"youd\", \"youre\", \"zapping\"]}, \"R\": 30, \"lambda.step\": 0.01, \"plot.opts\": {\"xlab\": \"PC1\", \"ylab\": \"PC2\"}, \"topic.order\": [19, 14, 20, 5, 10, 18, 8, 4, 7, 6, 1, 16, 9, 17, 11, 13, 15, 12, 2, 3]};\n",
       "\n",
       "function LDAvis_load_lib(url, callback){\n",
       "  var s = document.createElement('script');\n",
       "  s.src = url;\n",
       "  s.async = true;\n",
       "  s.onreadystatechange = s.onload = callback;\n",
       "  s.onerror = function(){console.warn(\"failed to load library \" + url);};\n",
       "  document.getElementsByTagName(\"head\")[0].appendChild(s);\n",
       "}\n",
       "\n",
       "if(typeof(LDAvis) !== \"undefined\"){\n",
       "   // already loaded: just create the visualization\n",
       "   !function(LDAvis){\n",
       "       new LDAvis(\"#\" + \"ldavis_el3607225782871474882706202898\", ldavis_el3607225782871474882706202898_data);\n",
       "   }(LDAvis);\n",
       "}else if(typeof define === \"function\" && define.amd){\n",
       "   // require.js is available: use it to load d3/LDAvis\n",
       "   require.config({paths: {d3: \"https://d3js.org/d3.v5\"}});\n",
       "   require([\"d3\"], function(d3){\n",
       "      window.d3 = d3;\n",
       "      LDAvis_load_lib(\"https://cdn.jsdelivr.net/gh/bmabey/pyLDAvis@3.3.1/pyLDAvis/js/ldavis.v3.0.0.js\", function(){\n",
       "        new LDAvis(\"#\" + \"ldavis_el3607225782871474882706202898\", ldavis_el3607225782871474882706202898_data);\n",
       "      });\n",
       "    });\n",
       "}else{\n",
       "    // require.js not available: dynamically load d3 & LDAvis\n",
       "    LDAvis_load_lib(\"https://d3js.org/d3.v5.js\", function(){\n",
       "         LDAvis_load_lib(\"https://cdn.jsdelivr.net/gh/bmabey/pyLDAvis@3.3.1/pyLDAvis/js/ldavis.v3.0.0.js\", function(){\n",
       "                 new LDAvis(\"#\" + \"ldavis_el3607225782871474882706202898\", ldavis_el3607225782871474882706202898_data);\n",
       "            })\n",
       "         });\n",
       "}\n",
       "</script>"
      ],
      "text/plain": [
       "PreparedData(topic_coordinates=              x         y  topics  cluster       Freq\n",
       "topic                                                \n",
       "18    -0.364112 -0.240562       1        1  37.197654\n",
       "13    -0.250473  0.310975       2        1  14.559799\n",
       "19    -0.048384 -0.008219       3        1   7.659778\n",
       "4     -0.117070  0.037348       4        1   6.852216\n",
       "9      0.032048 -0.021052       5        1   4.826494\n",
       "17     0.052327 -0.000363       6        1   4.426244\n",
       "7      0.058992 -0.008683       7        1   4.344696\n",
       "3      0.005260  0.014470       8        1   3.893062\n",
       "6      0.059747 -0.010668       9        1   3.009815\n",
       "5      0.053779  0.005537      10        1   2.805923\n",
       "0      0.037884  0.006788      11        1   2.070636\n",
       "15     0.058746 -0.007234      12        1   1.905720\n",
       "8      0.057562 -0.008244      13        1   1.501836\n",
       "16     0.057287 -0.008997      14        1   1.416892\n",
       "10     0.055132 -0.009668      15        1   0.937832\n",
       "12     0.054054 -0.008441      16        1   0.883939\n",
       "14     0.048091 -0.016714      17        1   0.816427\n",
       "11     0.051987 -0.008822      18        1   0.369601\n",
       "1      0.048672 -0.008741      19        1   0.286014\n",
       "2      0.048471 -0.008707      20        1   0.235422, topic_info=                        Term        Freq       Total Category  logprob  \\\n",
       "41                      tdcs  569.000000  569.000000  Default  30.0000   \n",
       "8                 depression  146.000000  146.000000  Default  29.0000   \n",
       "75                   montage  147.000000  147.000000  Default  28.0000   \n",
       "399                   anyone  122.000000  122.000000  Default  27.0000   \n",
       "73                     https  104.000000  104.000000  Default  26.0000   \n",
       "...                      ...         ...         ...      ...      ...   \n",
       "3673                  pulsed    0.009318    1.061518  Topic20  -8.3384   \n",
       "2964                  easily    0.009318    1.061521  Topic20  -8.3384   \n",
       "1861                   learn    0.009318    1.061550  Topic20  -8.3384   \n",
       "2991  behavioral_flexibility    0.009318    1.061543  Topic20  -8.3384   \n",
       "3597         electromagnetic    0.009318    1.061582  Topic20  -8.3384   \n",
       "\n",
       "      loglift  \n",
       "41     30.000  \n",
       "8      29.000  \n",
       "75     28.000  \n",
       "399    27.000  \n",
       "73     26.000  \n",
       "...       ...  \n",
       "3673    1.316  \n",
       "2964    1.316  \n",
       "1861    1.316  \n",
       "2991    1.316  \n",
       "3597    1.316  \n",
       "\n",
       "[758 rows x 6 columns], token_table=      Topic      Freq                  Term\n",
       "term                                       \n",
       "719       4  0.806853                    ac\n",
       "1335      8  0.901798  accelerated_learning\n",
       "1149      6  0.820222                across\n",
       "919      18  0.727866            activadose\n",
       "796       6  0.849426                active\n",
       "...     ...       ...                   ...\n",
       "710      11  0.713205  wwwyoutubecom_watchv\n",
       "1216     10  0.747869                   yes\n",
       "1392      6  0.774096                  youd\n",
       "1217      7  0.784896                 youre\n",
       "1451      7  0.844681               zapping\n",
       "\n",
       "[666 rows x 3 columns], R=30, lambda_step=0.01, plot_opts={'xlab': 'PC1', 'ylab': 'PC2'}, topic_order=[19, 14, 20, 5, 10, 18, 8, 4, 7, 6, 1, 16, 9, 17, 11, 13, 15, 12, 2, 3])"
      ]
     },
     "execution_count": 146,
     "metadata": {},
     "output_type": "execute_result"
    }
   ],
   "source": [
    "# Visualize the topics\n",
    "pyLDAvis.enable_notebook()\n",
    "LDAvis_data_filepath = ('C:/Users/megan/OneDrive - Emory University/neuroethics/reddit/ldavis_prepared_'+str(num_topics))\n",
    "# # this is a bit time consuming - make the if statement True\n",
    "# # if you want to execute visualization prep yourself\n",
    "if 1 == 1:\n",
    "    LDAvis_prepared = pyLDAvis.gensim_models.prepare(lda_model, corpus, id2word)\n",
    "    with open(LDAvis_data_filepath, 'wb') as f:\n",
    "        pickle.dump(LDAvis_prepared, f)\n",
    "# load the pre-prepared pyLDAvis data from disk\n",
    "    with open(LDAvis_data_filepath, 'rb') as f:\n",
    "        LDAvis_prepared = pickle.load(f)\n",
    "pyLDAvis.save_html(LDAvis_prepared, './ldavis_prepared_'+ str(num_topics) +'.html')\n",
    "LDAvis_prepared"
   ]
  },
  {
   "cell_type": "code",
   "execution_count": 136,
   "metadata": {},
   "outputs": [],
   "source": [
    "bigram = gensim.models.Phrases(data_words, min_count=3, threshold=100)\n",
    "trigram = gensim.models.Phrases(bigram[data_words], threshold=100)\n",
    "bigram_mod = gensim.models.phrases.Phraser(bigram)\n",
    "trigram_mod = gensim.models.phrases.Phraser(trigram)"
   ]
  },
  {
   "cell_type": "code",
   "execution_count": 137,
   "metadata": {},
   "outputs": [],
   "source": [
    "def remove_stopwords(texts):\n",
    "   return [[word for word in simple_preprocess(str(doc))\n",
    "if word not in stop_words] for doc in texts]\n",
    "def make_bigrams(texts):\n",
    "   return [bigram_mod[doc] for doc in texts]\n",
    "def make_trigrams(texts):\n",
    "   return [trigram_mod[bigram_mod[doc]] for doc in texts]\n",
    "def lemmatization(texts, allowed_postags=['NOUN', 'ADJ', 'VERB', 'ADV']):\n",
    "   texts_out = []\n",
    "   for sent in texts:\n",
    "     doc = nlp(\" \".join(sent))\n",
    "     texts_out.append([token.lemma_ for token in doc if token.pos_ in allowed_postags])\n",
    "   return texts_out"
   ]
  },
  {
   "cell_type": "code",
   "execution_count": 138,
   "metadata": {},
   "outputs": [],
   "source": [
    "data_words_nostops = remove_stopwords(data_words)\n",
    "data_words_bigrams = make_bigrams(data_words_nostops)"
   ]
  },
  {
   "cell_type": "code",
   "execution_count": 139,
   "metadata": {},
   "outputs": [],
   "source": [
    "id2word = corpora.Dictionary(data_words_bigrams)\n",
    "texts = data_words_bigrams\n",
    "corpus = [id2word.doc2bow(text) for text in texts]"
   ]
  },
  {
   "cell_type": "code",
   "execution_count": 145,
   "metadata": {},
   "outputs": [],
   "source": [
    "[[(id2word[id], freq) for id, freq in cp] for cp in corpus[:4]] \n",
    "#it will print the words with their frequencies.\n",
    "lda_model = gensim.models.ldamodel.LdaModel(\n",
    "   corpus=corpus, id2word=id2word, num_topics=20, random_state=100, \n",
    "   update_every=1, chunksize=100, passes=20, alpha='auto', per_word_topics=True\n",
    ")"
   ]
  },
  {
   "cell_type": "code",
   "execution_count": 144,
   "metadata": {},
   "outputs": [],
   "source": [
    "lda_model_2 = gensim.models.LdaMulticore(corpus=corpus,\n",
    "                                       id2word=id2word,\n",
    "                                       num_topics=20)"
   ]
  }
 ],
 "metadata": {
  "colab": {
   "name": "scraping_reddit.ipynb",
   "provenance": []
  },
  "kernelspec": {
   "display_name": "Python 3",
   "language": "python",
   "name": "python3"
  },
  "language_info": {
   "codemirror_mode": {
    "name": "ipython",
    "version": 3
   },
   "file_extension": ".py",
   "mimetype": "text/x-python",
   "name": "python",
   "nbconvert_exporter": "python",
   "pygments_lexer": "ipython3",
   "version": "3.8.3"
  }
 },
 "nbformat": 4,
 "nbformat_minor": 1
}
